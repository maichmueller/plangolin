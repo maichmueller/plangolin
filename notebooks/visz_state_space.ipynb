{
 "cells": [
  {
   "metadata": {
    "ExecuteTime": {
     "end_time": "2024-08-02T09:56:40.595790Z",
     "start_time": "2024-08-02T09:56:40.592449Z"
    }
   },
   "cell_type": "code",
   "source": "#%matplotlib notebook",
   "id": "cf14b30486adeebb",
   "outputs": [],
   "execution_count": 109
  },
  {
   "metadata": {
    "ExecuteTime": {
     "end_time": "2024-08-06T07:51:22.513718Z",
     "start_time": "2024-08-06T07:51:19.567741Z"
    }
   },
   "cell_type": "code",
   "source": [
    "import matplotlib\n",
    "import pymimir as mi\n",
    "import networkx as nx\n",
    "import torch\n",
    "import matplotlib.pyplot as plt\n",
    "import numpy as np"
   ],
   "id": "21afa81c3d8e05e",
   "outputs": [],
   "execution_count": 1
  },
  {
   "metadata": {
    "ExecuteTime": {
     "end_time": "2024-08-06T08:22:44.811173Z",
     "start_time": "2024-08-06T08:22:44.807744Z"
    }
   },
   "cell_type": "code",
   "source": [
    "blocks_instance = \"small\"\n",
    "run_name = \"06-08_10-20-29\""
   ],
   "id": "995c6ceadd6d6a25",
   "outputs": [],
   "execution_count": 27
  },
  {
   "metadata": {
    "ExecuteTime": {
     "end_time": "2024-08-06T08:22:45.508720Z",
     "start_time": "2024-08-06T08:22:45.501083Z"
    }
   },
   "cell_type": "code",
   "source": [
    "blocks_domain = mi.DomainParser(\"../test/pddl_instances/blocks/domain.pddl\").parse()\n",
    "blocks_problem = mi.ProblemParser(\n",
    "    f\"../test/pddl_instances/blocks/{blocks_instance}.pddl\").parse(\n",
    "    blocks_domain)\n",
    "space = mi.StateSpace.new(blocks_problem, mi.GroundedSuccessorGenerator(blocks_problem))"
   ],
   "id": "a3b951f985ecc701",
   "outputs": [],
   "execution_count": 28
  },
  {
   "metadata": {
    "ExecuteTime": {
     "end_time": "2024-08-06T08:22:47.101796Z",
     "start_time": "2024-08-06T08:22:46.999216Z"
    }
   },
   "cell_type": "code",
   "source": [
    "# Draw a histogram over the distances to the goal state\n",
    "# Display the x-tick number below in the middle of the bars\n",
    "distances = [space.get_distance_to_goal_state(s) for s in space.get_states()]\n",
    "unique_distances = len(set(distances))\n",
    "plt.xlabel(\"Distance to goal state\")\n",
    "plt.ylabel(\"Number of states\")\n",
    "plt.hist(distances, bins=np.arange(unique_distances + 1) - 0.5, rwidth=0.95)\n",
    "plt.xticks(range(unique_distances))\n",
    "plt.show()"
   ],
   "id": "c2c8f72f128353c3",
   "outputs": [
    {
     "data": {
      "text/plain": [
       "<Figure size 640x480 with 1 Axes>"
      ],
      "image/png": "[encoded data removed]"
     },
     "metadata": {},
     "output_type": "display_data"
    }
   ],
   "execution_count": 29
  },
  {
   "metadata": {
    "ExecuteTime": {
     "end_time": "2024-08-06T08:22:48.044895Z",
     "start_time": "2024-08-06T08:22:48.040030Z"
    }
   },
   "cell_type": "code",
   "source": "values = torch.load(f\"../out/{blocks_instance}/{run_name}/values.pt\")",
   "id": "5f89f4b3d1c8aded",
   "outputs": [],
   "execution_count": 30
  },
  {
   "metadata": {},
   "cell_type": "markdown",
   "source": [
    "# Investigate values\n",
    "Values are $\\hat V(s) - V(s)$, prediction - optimal\n",
    "\n",
    "We expect that the initial state starts with a highly negative value and converges to 0, as the actual distance will be greater than the initial prediction (of around 0.5)."
   ],
   "id": "660abe2f6a9257e5"
  },
  {
   "metadata": {
    "ExecuteTime": {
     "end_time": "2024-08-06T08:23:45.904893Z",
     "start_time": "2024-08-06T08:23:45.900963Z"
    }
   },
   "cell_type": "code",
   "source": "values[400,]",
   "id": "a968871c1e34013b",
   "outputs": [
    {
     "data": {
      "text/plain": [
       "tensor([-0.0121, -0.8221,  0.8879, -1.5511])"
      ]
     },
     "execution_count": 42,
     "metadata": {},
     "output_type": "execute_result"
    }
   ],
   "execution_count": 42
  },
  {
   "metadata": {
    "ExecuteTime": {
     "end_time": "2024-08-06T08:22:50.287405Z",
     "start_time": "2024-08-06T08:22:50.282843Z"
    }
   },
   "cell_type": "code",
   "source": "(total_iterations := len(values))",
   "id": "72af326ed30053cc",
   "outputs": [
    {
     "data": {
      "text/plain": [
       "500"
      ]
     },
     "execution_count": 31,
     "metadata": {},
     "output_type": "execute_result"
    }
   ],
   "execution_count": 31
  },
  {
   "metadata": {
    "ExecuteTime": {
     "end_time": "2024-08-06T08:22:53.767323Z",
     "start_time": "2024-08-06T08:22:53.762302Z"
    }
   },
   "cell_type": "code",
   "source": [
    "(initial_state_idx := next(\n",
    "    i for i, s in enumerate(space.get_states()) if s == space.get_initial_state()))"
   ],
   "id": "8da98c3e29f179d4",
   "outputs": [
    {
     "data": {
      "text/plain": [
       "0"
      ]
     },
     "execution_count": 32,
     "metadata": {},
     "output_type": "execute_result"
    }
   ],
   "execution_count": 32
  },
  {
   "metadata": {
    "ExecuteTime": {
     "end_time": "2024-08-06T08:22:54.534232Z",
     "start_time": "2024-08-06T08:22:54.531729Z"
    }
   },
   "cell_type": "code",
   "source": "initial_values = values[:, initial_state_idx]",
   "id": "5a599a245d0b25c6",
   "outputs": [],
   "execution_count": 33
  },
  {
   "metadata": {
    "ExecuteTime": {
     "end_time": "2024-08-06T08:22:54.915693Z",
     "start_time": "2024-08-06T08:22:54.912578Z"
    }
   },
   "cell_type": "code",
   "source": [
    "(space.get_distance_to_goal_state(space.get_initial_state()),\n",
    " max(space.get_distance_to_goal_state(s) for s in space.get_states()))"
   ],
   "id": "d3277d4f76c6f379",
   "outputs": [
    {
     "data": {
      "text/plain": [
       "(2, 4)"
      ]
     },
     "execution_count": 34,
     "metadata": {},
     "output_type": "execute_result"
    }
   ],
   "execution_count": 34
  },
  {
   "metadata": {
    "ExecuteTime": {
     "end_time": "2024-08-06T08:22:55.604533Z",
     "start_time": "2024-08-06T08:22:55.469228Z"
    }
   },
   "cell_type": "code",
   "source": [
    "# plot values for initial state over all time steps\n",
    "# remove outlier\n",
    "start_it = 0\n",
    "plt.scatter(torch.arange(start_it, total_iterations), values[start_it:, 0], s=0.4)\n",
    "plt.scatter(torch.arange(start_it, total_iterations), values[start_it:, 1], s=0.4)\n",
    "plt.scatter(torch.arange(start_it, total_iterations), values[start_it:, 2], s=0.4)\n",
    "plt.scatter(torch.arange(start_it, total_iterations), values[start_it:, 3], s=0.4)\n",
    "plt.title(\"Loss for initial state over time\")\n",
    "plt.show()"
   ],
   "id": "d8f307a08e139c58",
   "outputs": [
    {
     "data": {
      "text/plain": [
       "<Figure size 640x480 with 1 Axes>"
      ],
      "image/png": "[encoded data removed]"
     },
     "metadata": {},
     "output_type": "display_data"
    }
   ],
   "execution_count": 35
  },
  {
   "metadata": {
    "ExecuteTime": {
     "end_time": "2024-08-05T13:25:24.879501Z",
     "start_time": "2024-08-05T13:25:24.758011Z"
    }
   },
   "cell_type": "code",
   "source": [
    "# plot values for last state before the goal over all time steps\n",
    "one_before_goal = next(i for i, s in enumerate(space.get_states()) if\n",
    "                       space.get_distance_to_goal_state(s) == 1)\n",
    "start_it = 0\n",
    "plt.scatter(torch.arange(start_it, total_iterations),\n",
    "            values[start_it:, one_before_goal], s=0.4)\n",
    "plt.title(\"Loss for last state before goal over time\")\n",
    "plt.show()"
   ],
   "id": "5cf4f05a87801d0a",
   "outputs": [
    {
     "data": {
      "text/plain": [
       "<Figure size 640x480 with 1 Axes>"
      ],
      "image/png": "[encoded data removed]"
     },
     "metadata": {},
     "output_type": "display_data"
    }
   ],
   "execution_count": 12
  },
  {
   "metadata": {
    "ExecuteTime": {
     "end_time": "2024-08-05T13:25:37.328464Z",
     "start_time": "2024-08-05T13:25:37.308605Z"
    }
   },
   "cell_type": "code",
   "source": "space.get_distance_to_goal_state(space.get_states()[124])",
   "id": "92963d346e7f01e8",
   "outputs": [
    {
     "ename": "IndexError",
     "evalue": "list index out of range",
     "output_type": "error",
     "traceback": [
      "\u001B[0;31m---------------------------------------------------------------------------\u001B[0m",
      "\u001B[0;31mIndexError\u001B[0m                                Traceback (most recent call last)",
      "Cell \u001B[0;32mIn[13], line 1\u001B[0m\n\u001B[0;32m----> 1\u001B[0m space\u001B[38;5;241m.\u001B[39mget_distance_to_goal_state(\u001B[43mspace\u001B[49m\u001B[38;5;241;43m.\u001B[39;49m\u001B[43mget_states\u001B[49m\u001B[43m(\u001B[49m\u001B[43m)\u001B[49m\u001B[43m[\u001B[49m\u001B[38;5;241;43m124\u001B[39;49m\u001B[43m]\u001B[49m)\n",
      "\u001B[0;31mIndexError\u001B[0m: list index out of range"
     ]
    }
   ],
   "execution_count": 13
  },
  {
   "metadata": {
    "ExecuteTime": {
     "end_time": "2024-08-05T13:26:31.629233Z",
     "start_time": "2024-08-05T13:26:31.623172Z"
    }
   },
   "cell_type": "code",
   "source": "values[:, 3]",
   "id": "2d06f8c1debb9860",
   "outputs": [
    {
     "data": {
      "text/plain": [
       "tensor([-3.1955, -3.1935, -3.1915,  ..., -1.5338, -1.5338, -1.5338])"
      ]
     },
     "execution_count": 19,
     "metadata": {},
     "output_type": "execute_result"
    }
   ],
   "execution_count": 19
  },
  {
   "metadata": {
    "ExecuteTime": {
     "end_time": "2024-08-05T13:25:43.308212Z",
     "start_time": "2024-08-05T13:25:43.305575Z"
    }
   },
   "cell_type": "code",
   "source": "mean_loss = torch.mean(torch.abs(values), dim=1)",
   "id": "f9f535265bf606b7",
   "outputs": [],
   "execution_count": 14
  },
  {
   "metadata": {
    "ExecuteTime": {
     "end_time": "2024-08-05T13:25:43.918695Z",
     "start_time": "2024-08-05T13:25:43.810349Z"
    }
   },
   "cell_type": "code",
   "source": [
    "plt.scatter(torch.arange(start_it, total_iterations), mean_loss[start_it:], s=0.4)\n",
    "plt.title(\"Mean L1 loss over time\")\n",
    "plt.show()"
   ],
   "id": "1a4f80ad6d6ae03b",
   "outputs": [
    {
     "data": {
      "text/plain": [
       "<Figure size 640x480 with 1 Axes>"
      ],
      "image/png": "[encoded data removed]"
     },
     "metadata": {},
     "output_type": "display_data"
    }
   ],
   "execution_count": 15
  },
  {
   "metadata": {
    "ExecuteTime": {
     "end_time": "2024-08-05T13:25:54.498275Z",
     "start_time": "2024-08-05T13:25:54.483786Z"
    }
   },
   "cell_type": "code",
   "source": "torch.mean(values[-1]), torch.std(values[-1]), torch.max(values[-1])",
   "id": "846ad0e51278f1e7",
   "outputs": [
    {
     "data": {
      "text/plain": [
       "(tensor(-0.3571), tensor(1.0504), tensor(0.9052))"
      ]
     },
     "execution_count": 16,
     "metadata": {},
     "output_type": "execute_result"
    }
   ],
   "execution_count": 16
  },
  {
   "metadata": {},
   "cell_type": "markdown",
   "source": "# Visualize the state space over time",
   "id": "baf1dc40f25a9806"
  },
  {
   "metadata": {
    "ExecuteTime": {
     "end_time": "2024-08-05T13:27:56.237324Z",
     "start_time": "2024-08-05T13:27:56.229667Z"
    }
   },
   "cell_type": "code",
   "source": [
    "l1_values = torch.abs(values)\n",
    "vmax = l1_values.max()\n",
    "\n",
    "vmin = torch.min(torch.zeros((1,), dtype=torch.float), l1_values.min())\n",
    "vmax, vmin"
   ],
   "id": "61838ce98a90841",
   "outputs": [
    {
     "data": {
      "text/plain": [
       "(tensor(3.1955), tensor([0.]))"
      ]
     },
     "execution_count": 20,
     "metadata": {},
     "output_type": "execute_result"
    }
   ],
   "execution_count": 20
  },
  {
   "metadata": {
    "ExecuteTime": {
     "end_time": "2024-08-05T13:27:58.414526Z",
     "start_time": "2024-08-05T13:27:58.412269Z"
    }
   },
   "cell_type": "code",
   "source": "normalized = (l1_values - vmin) / (vmax - vmin)",
   "id": "58f76c0042a0b1c",
   "outputs": [],
   "execution_count": 21
  },
  {
   "metadata": {
    "ExecuteTime": {
     "end_time": "2024-08-05T13:27:59.378828Z",
     "start_time": "2024-08-05T13:27:59.275066Z"
    }
   },
   "cell_type": "code",
   "source": [
    "plt.scatter(torch.arange(start_it, total_iterations),\n",
    "            normalized[start_it:, initial_state_idx], s=0.4)\n",
    "plt.show()"
   ],
   "id": "d8b0bbc63254291f",
   "outputs": [
    {
     "data": {
      "text/plain": [
       "<Figure size 640x480 with 1 Axes>"
      ],
      "image/png": "[encoded data removed]"
     },
     "metadata": {},
     "output_type": "display_data"
    }
   ],
   "execution_count": 22
  },
  {
   "cell_type": "code",
   "id": "initial_id",
   "metadata": {
    "collapsed": true,
    "ExecuteTime": {
     "end_time": "2024-08-05T13:03:19.044176Z",
     "start_time": "2024-08-05T13:03:19.038818Z"
    }
   },
   "source": [
    "graph = nx.Graph()\n",
    "goal_indices = set()\n",
    "for idx, state in enumerate(space.get_states()):\n",
    "    if space.is_goal_state(state):\n",
    "        goal_indices.add(idx)\n",
    "    graph.add_node(state.__repr__(), idx=idx)\n",
    "for state in space.get_states():\n",
    "    for t in space.get_forward_transitions(state):\n",
    "        graph.add_edge(\n",
    "            t.source.__repr__(), t.target.__repr__(), action=t.action.schema.name\n",
    "        )\n"
   ],
   "outputs": [],
   "execution_count": 19
  },
  {
   "metadata": {
    "ExecuteTime": {
     "end_time": "2024-08-05T13:03:19.821887Z",
     "start_time": "2024-08-05T13:03:19.818332Z"
    }
   },
   "cell_type": "code",
   "source": "goal_indices",
   "id": "36cd311e165c9b8c",
   "outputs": [
    {
     "data": {
      "text/plain": [
       "{4}"
      ]
     },
     "execution_count": 20,
     "metadata": {},
     "output_type": "execute_result"
    }
   ],
   "execution_count": 20
  },
  {
   "metadata": {
    "ExecuteTime": {
     "end_time": "2024-08-05T13:03:29.969928Z",
     "start_time": "2024-08-05T13:03:29.965616Z"
    }
   },
   "cell_type": "code",
   "source": [
    "def get_value(iteration, index):\n",
    "    if index in goal_indices:\n",
    "        return 0.0\n",
    "    if index == 124:\n",
    "        return normalized[iteration][index - 1].item()\n",
    "    return normalized[iteration][index].item()"
   ],
   "id": "612a7d13d50232b4",
   "outputs": [],
   "execution_count": 22
  },
  {
   "metadata": {
    "ExecuteTime": {
     "end_time": "2024-08-05T13:03:31.299248Z",
     "start_time": "2024-08-05T13:03:31.291935Z"
    }
   },
   "cell_type": "code",
   "source": [
    "it_ = 0\n",
    "get_value(it_, 0), get_value(it_, 1), get_value(it_, 2), get_value(it_, 3), get_value(\n",
    "    it_, 4)"
   ],
   "id": "b51ee853f0fb5905",
   "outputs": [
    {
     "data": {
      "text/plain": [
       "(0.5789178609848022, 0.800540030002594, 0.3326709568500519, 1.0, 0.0)"
      ]
     },
     "execution_count": 23,
     "metadata": {},
     "output_type": "execute_result"
    }
   ],
   "execution_count": 23
  },
  {
   "metadata": {
    "ExecuteTime": {
     "end_time": "2024-08-05T13:03:43.133292Z",
     "start_time": "2024-08-05T13:03:42.974297Z"
    }
   },
   "cell_type": "code",
   "source": "pos = nx.spring_layout(graph, seed=42, iterations=2000)",
   "id": "e538f0569f13fc03",
   "outputs": [],
   "execution_count": 24
  },
  {
   "metadata": {
    "ExecuteTime": {
     "end_time": "2024-08-05T13:03:44.512177Z",
     "start_time": "2024-08-05T13:03:44.497709Z"
    }
   },
   "cell_type": "code",
   "source": [
    "from matplotlib.animation import FuncAnimation\n",
    "\n",
    "\n",
    "#sm.set_array([])\n",
    "def update_graph_plot(t, cmap, axis):\n",
    "    axis.clear()\n",
    "    # Normalize the values\n",
    "    # Map node colors\n",
    "    node_colors = [cmap(get_value(t, attr[\"idx\"])) for _, attr in\n",
    "                   graph.nodes.data()]\n",
    "\n",
    "    # Draw the graph\n",
    "    nx.draw_networkx(graph,\n",
    "                     pos,\n",
    "                     node_color=node_colors,\n",
    "                     nodelist=[n for n in graph.nodes],\n",
    "                     with_labels=False,\n",
    "                     node_size=100,\n",
    "                     ax=axis)\n",
    "\n",
    "    axis.text(0.95, 0.95, f'Time step: {t}', horizontalalignment='right',\n",
    "              verticalalignment='top', transform=axis.transAxes, fontsize=12,\n",
    "              bbox=dict(facecolor='white', alpha=0.5))"
   ],
   "id": "5036ea5cc9ebc202",
   "outputs": [],
   "execution_count": 25
  },
  {
   "metadata": {
    "ExecuteTime": {
     "end_time": "2024-08-05T13:03:46.727610Z",
     "start_time": "2024-08-05T13:03:46.473962Z"
    }
   },
   "cell_type": "code",
   "source": [
    "fig, (ax_graph, ax_line) = plt.subplots(figsize=(20, 10), ncols=2)\n",
    "cmap = plt.cm.cool\n",
    "normalized_cmap = matplotlib.colors.Normalize(vmin=vmin.item(), vmax=vmax.item())\n",
    "\n",
    "sm = matplotlib.cm.ScalarMappable(norm=normalized_cmap, cmap=cmap)\n",
    "\n",
    "ax_graph.set_title('State Value Changes Over Time')\n",
    "fig.colorbar(sm, ax=ax_graph, orientation=\"vertical\",\n",
    "             label=\"Normalized state value error\")\n"
   ],
   "id": "a0068080a62e1493",
   "outputs": [
    {
     "data": {
      "text/plain": [
       "<matplotlib.colorbar.Colorbar at 0x7f11cdc0b710>"
      ]
     },
     "execution_count": 26,
     "metadata": {},
     "output_type": "execute_result"
    },
    {
     "data": {
      "text/plain": [
       "<Figure size 2000x1000 with 3 Axes>"
      ],
      "image/png": "[encoded data removed]"
     },
     "metadata": {},
     "output_type": "display_data"
    }
   ],
   "execution_count": 26
  },
  {
   "metadata": {
    "ExecuteTime": {
     "end_time": "2024-08-05T13:03:50.903494Z",
     "start_time": "2024-08-05T13:03:50.898509Z"
    }
   },
   "cell_type": "code",
   "source": [
    "line, = ax_line.plot([], [], lw=2)\n",
    "\n",
    "# Set up loss plot axes limits\n",
    "ax_line.set_xlim(0, len(mean_loss))\n",
    "ax_line.set_ylim(mean_loss.min().item(), mean_loss.max().item())\n",
    "ax_line.set_title(\"Mean L1 loss over time\")\n",
    "ax_line.set_xlabel(\"Time step\")\n",
    "ax_line.set_ylabel(\"Mean L1 loss\")\n",
    "\n",
    "\n",
    "# Initialize your animation\n",
    "def init():\n",
    "    line.set_data([], [])\n",
    "    return line,\n",
    "\n",
    "\n",
    "def update_line_plot(t, line_data):\n",
    "    # Update the mean loss line chart\n",
    "    line_data.set_data(torch.arange(0, t), mean_loss[0:t])\n",
    "    return line_data"
   ],
   "id": "1991dae5158c92be",
   "outputs": [],
   "execution_count": 27
  },
  {
   "metadata": {
    "ExecuteTime": {
     "end_time": "2024-08-05T13:03:54.014938Z",
     "start_time": "2024-08-05T13:03:54.010832Z"
    }
   },
   "cell_type": "code",
   "source": [
    "def update(t, cmap, axis, line_data):\n",
    "    update_graph_plot(t, cmap, axis)\n",
    "    update_line_plot(t, line_data)\n",
    "    return line_data"
   ],
   "id": "914a049b302a72b2",
   "outputs": [],
   "execution_count": 28
  },
  {
   "metadata": {
    "ExecuteTime": {
     "end_time": "2024-08-05T13:03:58.114166Z",
     "start_time": "2024-08-05T13:03:58.109824Z"
    }
   },
   "cell_type": "code",
   "source": [
    "# Create the animation\n",
    "ani = FuncAnimation(fig, lambda t: update(t, cmap, ax_graph, line), init_func=init,\n",
    "                    frames=range(0, 2000, 10), repeat=False)"
   ],
   "id": "7c9c05917768209",
   "outputs": [],
   "execution_count": 29
  },
  {
   "metadata": {
    "ExecuteTime": {
     "end_time": "2024-08-05T13:03:59.337166Z",
     "start_time": "2024-08-05T13:03:59.334351Z"
    }
   },
   "cell_type": "code",
   "source": "plt.show()",
   "id": "49130e61c53ccc23",
   "outputs": [],
   "execution_count": 30
  },
  {
   "metadata": {
    "ExecuteTime": {
     "end_time": "2024-08-05T13:04:41.976773Z",
     "start_time": "2024-08-05T13:04:11.961808Z"
    }
   },
   "cell_type": "code",
   "source": [
    "# Save the animation as a GIF\n",
    "ani.save(f'../out/{blocks_instance}/{run_name}/graph_evolution_{blocks_instance}.gif',\n",
    "         writer='pillow', fps=6)"
   ],
   "id": "ce3efb249e4d8f2",
   "outputs": [],
   "execution_count": 32
  },
  {
   "metadata": {
    "ExecuteTime": {
     "end_time": "2024-08-05T13:04:10.413503Z",
     "start_time": "2024-08-05T13:04:10.408871Z"
    }
   },
   "cell_type": "code",
   "source": "len(graph.edges)",
   "id": "b107ee9ec2655a5f",
   "outputs": [
    {
     "data": {
      "text/plain": [
       "4"
      ]
     },
     "execution_count": 31,
     "metadata": {},
     "output_type": "execute_result"
    }
   ],
   "execution_count": 31
  },
  {
   "metadata": {
    "ExecuteTime": {
     "end_time": "2024-07-26T16:37:10.102066Z",
     "start_time": "2024-07-26T16:37:10.081201Z"
    }
   },
   "cell_type": "code",
   "source": [
    "nx.drawing.nx_pydot.write_dot(graph,\n",
    "                              \"/work/rleap1/jakob.krude/projects/remote/rgnet/out/medium_blocks.dot\")"
   ],
   "id": "f6dae1296062d47d",
   "outputs": [],
   "execution_count": 10
  },
  {
   "metadata": {
    "ExecuteTime": {
     "end_time": "2024-07-27T17:58:23.183667Z",
     "start_time": "2024-07-27T17:58:23.177792Z"
    }
   },
   "cell_type": "code",
   "source": "space.get_initial_state().__repr__().split(\" \")[1][2:-2]",
   "id": "92ed14db74ee1cf8",
   "outputs": [
    {
     "data": {
      "text/plain": [
       "'2841437515796834589'"
      ]
     },
     "execution_count": 82,
     "metadata": {},
     "output_type": "execute_result"
    }
   ],
   "execution_count": 82
  },
  {
   "metadata": {
    "ExecuteTime": {
     "end_time": "2024-07-27T17:59:43.138108Z",
     "start_time": "2024-07-27T17:59:43.119405Z"
    }
   },
   "cell_type": "code",
   "source": [
    "out_graph = nx.Graph()\n",
    "\n",
    "\n",
    "def get_id(s):\n",
    "    return s.__repr__().split(\" \")[1][2:-2]\n",
    "\n",
    "\n",
    "for idx, state in enumerate(space.get_states()):\n",
    "    if space.is_goal_state(state):\n",
    "        type_ = \"goal\"\n",
    "    elif space.get_initial_state() == state:\n",
    "        type_ = \"initial\"\n",
    "    else:\n",
    "        type_ = \"default\"\n",
    "    out_graph.add_node(get_id(state), type=type_)\n",
    "for state in space.get_states():\n",
    "    for t in space.get_forward_transitions(state):\n",
    "        out_graph.add_edge(\n",
    "            get_id(t.source), get_id(t.target), action=t.action.schema.name\n",
    "        )\n",
    "\n",
    "out_graph = nx.Graph.copy(out_graph, as_view=False)\n",
    "nx.convert_node_labels_to_integers(out_graph)\n",
    "nx.drawing.nx_pydot.write_dot(out_graph, f\"../out/{blocks_instance}_blocks.dot\")"
   ],
   "id": "73b819ceae8d2574",
   "outputs": [],
   "execution_count": 83
  },
  {
   "metadata": {},
   "cell_type": "markdown",
   "source": "## Train the supervised case completely in PyTorch as a sanity check",
   "id": "ea84b74e4140cd7"
  },
  {
   "metadata": {
    "ExecuteTime": {
     "end_time": "2024-08-06T08:14:14.398025Z",
     "start_time": "2024-08-06T08:14:14.391458Z"
    }
   },
   "cell_type": "code",
   "source": [
    "non_goal_states = [s for s in space.get_states() if not space.is_goal_state(s)]\n",
    "hidden_size = len(non_goal_states)\n",
    "embeddings = torch.eye(hidden_size)\n",
    "linear = torch.nn.Linear(hidden_size, 1)\n",
    "optimal_values = torch.tensor(\n",
    "    [space.get_distance_to_goal_state(s) for s in space.get_states() if not space.is_goal_state(s)],\n",
    "    dtype=torch.float)\n",
    "optim =torch.optim.Adam(linear.parameters(), lr=0.05)\n",
    "optimal_values"
   ],
   "id": "97d8d73558fde301",
   "outputs": [
    {
     "data": {
      "text/plain": [
       "tensor([ 6.,  7.,  7.,  7.,  5.,  6.,  8.,  8.,  8.,  8.,  8.,  8.,  8.,  8.,\n",
       "         6.,  6.,  4.,  7.,  5.,  9.,  9.,  9.,  9.,  9.,  7.,  9.,  9.,  9.,\n",
       "         9.,  9.,  9.,  9.,  9.,  9.,  9.,  7.,  7.,  7.,  7.,  3.,  5.,  8.,\n",
       "         8.,  6.,  4., 10., 10., 10.,  8., 10., 10., 10., 10., 10., 10.,  8.,\n",
       "         6., 10.,  8., 10., 10., 10., 10., 10.,  8., 10., 10.,  8., 10., 10.,\n",
       "        10.,  8.,  8.,  8.,  8.,  2.,  6.,  9.,  7., 11., 11., 11., 11., 11.,\n",
       "         9., 11., 11., 11., 11., 11., 11., 11., 11., 11., 11.,  9.,  9.,  9.,\n",
       "         9.,  1.,  7., 10.,  8., 12., 12., 12., 12., 12., 10., 12., 12., 12.,\n",
       "        12., 12., 12., 12., 12., 12., 12., 10., 10., 10., 10.,  8.])"
      ]
     },
     "execution_count": 23,
     "metadata": {},
     "output_type": "execute_result"
    }
   ],
   "execution_count": 23
  },
  {
   "metadata": {
    "ExecuteTime": {
     "end_time": "2024-08-06T08:14:24.265397Z",
     "start_time": "2024-08-06T08:14:24.179527Z"
    }
   },
   "cell_type": "code",
   "source": [
    "history = []\n",
    "loss_history = []\n",
    "iterations = 1000\n",
    "for i in range(iterations):\n",
    "    predictions = linear(embeddings)\n",
    "    history.append(predictions.detach())\n",
    "    loss = torch.nn.functional.l1_loss(predictions.squeeze(), optimal_values)\n",
    "    loss_history.append(loss.detach())\n",
    "    if loss < 0.1:\n",
    "        break\n",
    "    loss.backward()\n",
    "    optim.step()\n",
    "    optim.zero_grad()\n",
    "    "
   ],
   "id": "3a461ee6d75486d4",
   "outputs": [],
   "execution_count": 24
  },
  {
   "metadata": {
    "ExecuteTime": {
     "end_time": "2024-08-06T08:14:26.154336Z",
     "start_time": "2024-08-06T08:14:26.031532Z"
    }
   },
   "cell_type": "code",
   "source": [
    "history_length = len(history)\n",
    "history = torch.stack(history)\n",
    "plt.scatter(torch.arange(0, history_length),history[:, 0], s=0.4)\n",
    "plt.scatter(torch.arange(0, history_length),history[:, 1], s=0.4)\n",
    "plt.scatter(torch.arange(0, history_length),history[:, 2], s=0.4)\n",
    "plt.scatter(torch.arange(0, history_length),history[:, 3], s=0.4)\n",
    "plt.show()"
   ],
   "id": "6a781903727a1b03",
   "outputs": [
    {
     "data": {
      "text/plain": [
       "<Figure size 640x480 with 1 Axes>"
      ],
      "image/png": "[encoded data removed]"
     },
     "metadata": {},
     "output_type": "display_data"
    }
   ],
   "execution_count": 25
  },
  {
   "metadata": {
    "ExecuteTime": {
     "end_time": "2024-08-06T08:14:30.726623Z",
     "start_time": "2024-08-06T08:14:30.617514Z"
    }
   },
   "cell_type": "code",
   "source": "plt.scatter(torch.arange(0, history_length), loss_history, s=0.4)",
   "id": "3f09fe8d8eb5d2ef",
   "outputs": [
    {
     "data": {
      "text/plain": [
       "<matplotlib.collections.PathCollection at 0x7f8ab427e610>"
      ]
     },
     "execution_count": 26,
     "metadata": {},
     "output_type": "execute_result"
    },
    {
     "data": {
      "text/plain": [
       "<Figure size 640x480 with 1 Axes>"
      ],
      "image/png": "[encoded data removed]"
     },
     "metadata": {},
     "output_type": "display_data"
    }
   ],
   "execution_count": 26
  },
  {
   "metadata": {
    "ExecuteTime": {
     "end_time": "2024-08-05T13:50:24.394328Z",
     "start_time": "2024-08-05T13:50:24.389189Z"
    }
   },
   "cell_type": "code",
   "source": "torch.allclose(history[-1], optimal_values, atol=0.1)",
   "id": "de2fdd8925d0c949",
   "outputs": [
    {
     "data": {
      "text/plain": [
       "False"
      ]
     },
     "execution_count": 56,
     "metadata": {},
     "output_type": "execute_result"
    }
   ],
   "execution_count": 56
  },
  {
   "metadata": {
    "ExecuteTime": {
     "end_time": "2024-08-05T13:48:52.430243Z",
     "start_time": "2024-08-05T13:48:52.424247Z"
    }
   },
   "cell_type": "code",
   "source": "history[-1]",
   "id": "cfe6e5b69d8646ea",
   "outputs": [
    {
     "data": {
      "text/plain": [
       "tensor([[2.0023],\n",
       "        [3.0000],\n",
       "        [0.9964],\n",
       "        [3.9992]])"
      ]
     },
     "execution_count": 44,
     "metadata": {},
     "output_type": "execute_result"
    }
   ],
   "execution_count": 44
  }
 ],
 "metadata": {
  "kernelspec": {
   "display_name": "Python 3",
   "language": "python",
   "name": "python3"
  },
  "language_info": {
   "codemirror_mode": {
    "name": "ipython",
    "version": 2
   },
   "file_extension": ".py",
   "mimetype": "text/x-python",
   "name": "python",
   "nbconvert_exporter": "python",
   "pygments_lexer": "ipython2",
   "version": "2.7.6"
  }
 },
 "nbformat": 4,
 "nbformat_minor": 5
}
