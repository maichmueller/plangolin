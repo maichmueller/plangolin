{
 "cells": [
  {
   "cell_type": "code",
   "execution_count": 1,
   "id": "initial_id",
   "metadata": {
    "collapsed": true,
    "ExecuteTime": {
     "end_time": "2024-04-21T16:48:12.960051Z",
     "start_time": "2024-04-21T16:48:10.236266Z"
    }
   },
   "outputs": [],
   "source": [
    "from typing import Optional, Union, List, Dict, Any\n",
    "\n",
    "import lightning\n",
    "import torch, torch_geometric as pyg, networkx as nx, pymimir as mi\n",
    "import torch_geometric.nn\n",
    "from torch import Tensor\n",
    "from torch_geometric.typing import OptTensor, EdgeType, NodeType"
   ]
  },
  {
   "cell_type": "code",
   "outputs": [],
   "source": [
    "import torch.nn.functional as F\n",
    "\n",
    "import torch_geometric.transforms as T\n",
    "from torch_geometric.datasets import DBLP\n",
    "from torch_geometric.nn import HGTConv, Linear, Aggregation, MessagePassing"
   ],
   "metadata": {
    "collapsed": false,
    "ExecuteTime": {
     "end_time": "2024-04-21T16:48:12.965328Z",
     "start_time": "2024-04-21T16:48:12.959809Z"
    }
   },
   "id": "e789cf8be677d35c",
   "execution_count": 2
  },
  {
   "cell_type": "code",
   "outputs": [],
   "source": [
    "from pymimir import State, Problem, Domain\n",
    "from rgnet.pddl_import import import_all_from"
   ],
   "metadata": {
    "collapsed": false,
    "ExecuteTime": {
     "end_time": "2024-04-21T16:48:12.983948Z",
     "start_time": "2024-04-21T16:48:12.970711Z"
    }
   },
   "id": "3990a87f642045b6",
   "execution_count": 3
  },
  {
   "cell_type": "code",
   "outputs": [],
   "source": [
    "domain, problems = import_all_from(\"test/pddl_instances/blocks\")"
   ],
   "metadata": {
    "collapsed": false,
    "ExecuteTime": {
     "end_time": "2024-04-21T16:48:12.985087Z",
     "start_time": "2024-04-21T16:48:12.976185Z"
    }
   },
   "id": "76847203cf5c1908",
   "execution_count": 4
  },
  {
   "cell_type": "code",
   "outputs": [
    {
     "data": {
      "text/plain": "[<Atom 'clear(c)'>,\n <Atom 'clear(a)'>,\n <Atom 'clear(b)'>,\n <Atom 'clear(d)'>,\n <Atom 'ontable(c)'>,\n <Atom 'ontable(a)'>,\n <Atom 'ontable(b)'>,\n <Atom 'ontable(d)'>,\n <Atom 'handempty()'>]"
     },
     "execution_count": 5,
     "metadata": {},
     "output_type": "execute_result"
    }
   ],
   "source": [
    "problem: Problem = problems[0]\n",
    "initial_state = problem.create_state(problem.initial)\n",
    "initial_state.get_atoms()"
   ],
   "metadata": {
    "collapsed": false,
    "ExecuteTime": {
     "end_time": "2024-04-21T16:48:13.046376Z",
     "start_time": "2024-04-21T16:48:12.982595Z"
    }
   },
   "id": "fdccef775bdce858",
   "execution_count": 5
  },
  {
   "cell_type": "code",
   "outputs": [
    {
     "data": {
      "text/plain": "[<Literal 'on(d, c)'>, <Literal 'on(c, b)'>, <Literal 'on(b, a)'>]"
     },
     "execution_count": 6,
     "metadata": {},
     "output_type": "execute_result"
    }
   ],
   "source": [
    "problem.goal"
   ],
   "metadata": {
    "collapsed": false,
    "ExecuteTime": {
     "end_time": "2024-04-21T16:48:13.047443Z",
     "start_time": "2024-04-21T16:48:13.032879Z"
    }
   },
   "id": "845ffcb4a5bdc868",
   "execution_count": 6
  },
  {
   "cell_type": "code",
   "outputs": [
    {
     "data": {
      "text/plain": "[<Object 'd'>, <Object 'c'>]"
     },
     "execution_count": 7,
     "metadata": {},
     "output_type": "execute_result"
    }
   ],
   "source": [
    "a: mi.Atom = problem.goal[0].atom\n",
    "a.terms"
   ],
   "metadata": {
    "collapsed": false,
    "ExecuteTime": {
     "end_time": "2024-04-21T16:48:13.048194Z",
     "start_time": "2024-04-21T16:48:13.032996Z"
    }
   },
   "id": "a1c903d65c5d1045",
   "execution_count": 7
  },
  {
   "cell_type": "code",
   "outputs": [],
   "source": [
    "import itertools\n",
    "\n",
    "# Build hetero graph from state\n",
    "# One node for each object\n",
    "# One node for each atom\n",
    "# Edge label = position in atom\n",
    "state = problem.create_state(problem.initial)\n",
    "graph = nx.Graph()\n",
    "\n",
    "for obj in problem.objects:\n",
    "    graph.add_node(obj.name, type=\"obj\")\n",
    "\n",
    "state_atoms = zip(\n",
    "    filter(lambda a: a.predicate.name != \"=\", state.get_atoms()),\n",
    "    itertools.repeat(\"\"),\n",
    "    itertools.repeat(\"\"),\n",
    ")\n",
    "goal_atoms = (\n",
    "    (literal.atom, \"~\" if literal.negated else \"\", \"_g\")\n",
    "    for literal in problem.goal\n",
    ")\n",
    "\n",
    "for atom, prefix, suffix in itertools.chain(state_atoms, goal_atoms):\n",
    "\n",
    "    if atom.predicate.arity == 0:\n",
    "        continue\n",
    "\n",
    "    predicate: mi.Predicate = atom.predicate\n",
    "    pred_name: str = predicate.name\n",
    "    node_type = f\"{prefix}{pred_name}{suffix}\"\n",
    "    graph.graph[node_type] = predicate.arity\n",
    "\n",
    "    obj_names = \",\".join(obj.name for obj in atom.terms)\n",
    "\n",
    "    atom_node = f\"{prefix}{pred_name}({obj_names}){suffix}\"\n",
    "    graph.add_node(\n",
    "        atom_node,\n",
    "        type=node_type,\n",
    "    )\n",
    "\n",
    "    for pos, obj in enumerate(atom.terms):\n",
    "        # Connect predicate node to object node\n",
    "        graph.add_edge(obj.name, atom_node, position=str(pos))\n",
    "\n"
   ],
   "metadata": {
    "collapsed": false,
    "ExecuteTime": {
     "end_time": "2024-04-21T16:48:13.048763Z",
     "start_time": "2024-04-21T16:48:13.033100Z"
    }
   },
   "id": "b2ccb4bce2939658",
   "execution_count": 8
  },
  {
   "cell_type": "code",
   "outputs": [
    {
     "data": {
      "text/plain": "defaultdict(list,\n            {'obj': ['d', 'b', 'a', 'c'],\n             'clear': ['clear(c)', 'clear(a)', 'clear(b)', 'clear(d)'],\n             'ontable': ['ontable(c)',\n              'ontable(a)',\n              'ontable(b)',\n              'ontable(d)'],\n             'on_g': ['on(d,c)_g', 'on(c,b)_g', 'on(b,a)_g']})"
     },
     "execution_count": 39,
     "metadata": {},
     "output_type": "execute_result"
    }
   ],
   "source": [
    "from collections import defaultdict\n",
    "\n",
    "nodes_by_type = defaultdict(list)\n",
    "for key, value in nx.get_node_attributes(graph, \"type\").items():\n",
    "    nodes_by_type[value].append(key)\n",
    "nodes_by_type"
   ],
   "metadata": {
    "collapsed": false,
    "ExecuteTime": {
     "end_time": "2024-04-21T17:28:41.891484Z",
     "start_time": "2024-04-21T17:28:41.883197Z"
    }
   },
   "id": "822ace56e009e705",
   "execution_count": 39
  },
  {
   "cell_type": "code",
   "outputs": [
    {
     "data": {
      "text/plain": "<Figure size 700x700 with 1 Axes>",
      "image/png": "[encoded data removed]"
     },
     "metadata": {},
     "output_type": "display_data"
    }
   ],
   "source": [
    "from matplotlib import pyplot as plt\n",
    "\n",
    "type_to_color = {ntype: i for i, ntype in\n",
    "                 enumerate(set(nx.get_node_attributes(graph, \"type\").values()))}\n",
    "pos = nx.spring_layout(graph)\n",
    "plt.figure(figsize=(7, 7))\n",
    "\n",
    "nx.draw_networkx(\n",
    "    graph,\n",
    "    pos=pos,\n",
    "    with_labels=True,\n",
    "    labels={n: str(n) for n in graph.nodes},\n",
    "    nodelist=[n for n in graph.nodes],\n",
    "    node_color=[type_to_color[attr[\"type\"]] for _, attr in graph.nodes.data()],\n",
    "    cmap=\"tab10\",\n",
    ")\n",
    "nx.draw_networkx_edge_labels(graph, pos=pos,\n",
    "                             edge_labels={(src, dst): attr[\"position\"] for\n",
    "                                          src, dst, attr in graph.edges.data()})\n",
    "plt.show()"
   ],
   "metadata": {
    "collapsed": false,
    "ExecuteTime": {
     "end_time": "2024-04-21T16:48:13.485033Z",
     "start_time": "2024-04-21T16:48:13.033155Z"
    }
   },
   "id": "b705a203141f0b5e",
   "execution_count": 9
  },
  {
   "cell_type": "code",
   "outputs": [
    {
     "data": {
      "text/plain": "tensor([[0., 0., 0., 0., 0., 0., 0., 0.],\n        [0., 0., 0., 0., 0., 0., 0., 0.],\n        [0., 0., 0., 0., 0., 0., 0., 0.]])"
     },
     "execution_count": 10,
     "metadata": {},
     "output_type": "execute_result"
    }
   ],
   "source": [
    "node_type = \"on_g\"\n",
    "hidden_size = 4\n",
    "arity = graph.graph[node_type]\n",
    "# node features arity x hidden_size\n",
    "node_features = torch.stack(\n",
    "    [torch.zeros(hidden_size * arity) for _, attr in graph.nodes.data() if\n",
    "     attr[\"type\"] == node_type])\n",
    "node_features"
   ],
   "metadata": {
    "collapsed": false,
    "ExecuteTime": {
     "end_time": "2024-04-21T16:48:13.489289Z",
     "start_time": "2024-04-21T16:48:13.484611Z"
    }
   },
   "id": "6fcec2d2f6352d64",
   "execution_count": 10
  },
  {
   "cell_type": "code",
   "outputs": [
    {
     "data": {
      "text/plain": "tensor([[0., 0., 0., 0.],\n        [0., 0., 0., 0.],\n        [0., 0., 0., 0.]])"
     },
     "execution_count": 11,
     "metadata": {},
     "output_type": "execute_result"
    }
   ],
   "source": [
    "torch.zeros(len([1 for _, attr in graph.nodes.data() if attr[\"type\"] == node_type]),\n",
    "            hidden_size)"
   ],
   "metadata": {
    "collapsed": false,
    "ExecuteTime": {
     "end_time": "2024-04-21T16:48:14.037433Z",
     "start_time": "2024-04-21T16:48:13.484881Z"
    }
   },
   "id": "85faaabbd964cb6c",
   "execution_count": 11
  },
  {
   "cell_type": "code",
   "outputs": [],
   "source": [
    "from torch_geometric.data import HeteroData"
   ],
   "metadata": {
    "collapsed": false,
    "ExecuteTime": {
     "end_time": "2024-04-21T16:48:14.038196Z",
     "start_time": "2024-04-21T16:48:13.516658Z"
    }
   },
   "id": "b25edefa465d1e3d",
   "execution_count": 12
  },
  {
   "cell_type": "code",
   "outputs": [
    {
     "data": {
      "text/plain": "{'a': 0, 'b': 1, 'c': 2, 'd': 3}"
     },
     "execution_count": 13,
     "metadata": {},
     "output_type": "execute_result"
    }
   ],
   "source": [
    "obj_label = sorted([node for node, attr in graph.nodes.data() if attr[\"type\"] == \"obj\"])\n",
    "obj_label = {o: i for i, o in enumerate(obj_label)}\n",
    "obj_label"
   ],
   "metadata": {
    "collapsed": false,
    "ExecuteTime": {
     "end_time": "2024-04-21T16:48:14.038817Z",
     "start_time": "2024-04-21T16:48:13.517023Z"
    }
   },
   "id": "584fc4984b5783f3",
   "execution_count": 13
  },
  {
   "cell_type": "code",
   "outputs": [
    {
     "data": {
      "text/plain": "tensor([[3, 3],\n        [1, 1],\n        [0, 0],\n        [2, 2]])"
     },
     "execution_count": 14,
     "metadata": {},
     "output_type": "execute_result"
    }
   ],
   "source": [
    "torch.stack(\n",
    "    [torch.full(fill_value=obj_label[node], size=(2,)) for node, attr in\n",
    "     graph.nodes.data() if attr[\"type\"] == \"obj\"])"
   ],
   "metadata": {
    "collapsed": false,
    "ExecuteTime": {
     "end_time": "2024-04-21T16:48:14.039391Z",
     "start_time": "2024-04-21T16:48:13.517155Z"
    }
   },
   "id": "6b552889de2c14d5",
   "execution_count": 14
  },
  {
   "cell_type": "code",
   "outputs": [
    {
     "data": {
      "text/plain": "{'on_g': {'on(d,c)_g': 0, 'on(c,b)_g': 1, 'on(b,a)_g': 2},\n 'obj': {'d': 0, 'b': 1, 'a': 2, 'c': 3},\n 'ontable': {'ontable(c)': 0,\n  'ontable(a)': 1,\n  'ontable(b)': 2,\n  'ontable(d)': 3},\n 'clear': {'clear(c)': 0, 'clear(a)': 1, 'clear(b)': 2, 'clear(d)': 3}}"
     },
     "execution_count": 15,
     "metadata": {},
     "output_type": "execute_result"
    }
   ],
   "source": [
    "# group nodes by type\n",
    "by_type = {ntype: [node for node, attr in graph.nodes.data() if attr[\"type\"] == ntype]\n",
    "           for\n",
    "           ntype in set(nx.get_node_attributes(graph, \"type\").values())}\n",
    "\n",
    "nidx_by_type = {ntype: {node: i for i, node in enumerate(by_type[ntype])} for ntype in\n",
    "                by_type.keys()}\n",
    "nidx_by_type"
   ],
   "metadata": {
    "collapsed": false,
    "ExecuteTime": {
     "end_time": "2024-04-21T16:48:14.040672Z",
     "start_time": "2024-04-21T16:48:13.517230Z"
    }
   },
   "id": "8150d6356c296bf2",
   "execution_count": 15
  },
  {
   "cell_type": "code",
   "outputs": [],
   "source": [
    "# Build pyg HeteroData from graph\n",
    "data = HeteroData()\n",
    "hidden_size = 1\n",
    "for node_type in set(nx.get_node_attributes(graph, \"type\").values()):\n",
    "    if node_type == \"obj\":\n",
    "        data[node_type].x = torch.stack(\n",
    "            [torch.full(fill_value=obj_label[node], size=(hidden_size,),\n",
    "                        dtype=torch.float32) for node, attr\n",
    "             in graph.nodes.data() if attr[\"type\"] == node_type])\n",
    "    else:\n",
    "        arity = graph.graph[node_type]\n",
    "        data[node_type].x = torch.stack(\n",
    "            [torch.zeros(arity * hidden_size, dtype=torch.float32) for _, attr in\n",
    "             graph.nodes.data() if\n",
    "             attr[\"type\"] == node_type])\n",
    "\n",
    "# Group edges by src, position, dst\n",
    "edge_dict = {}\n",
    "for src, dst, attr in graph.edges.data():\n",
    "    src_type = graph.nodes[src][\"type\"]\n",
    "    dst_type = graph.nodes[dst][\"type\"]\n",
    "    if (src_type, attr[\"position\"], dst_type) not in edge_dict:\n",
    "        edge_dict[(src_type, attr[\"position\"], dst_type)] = []\n",
    "        edge_dict[(dst_type, attr[\"position\"], src_type)] = []\n",
    "\n",
    "    edge_dict[(src_type, attr[\"position\"], dst_type)].append(\n",
    "        torch.tensor([nidx_by_type[src_type][src], nidx_by_type[dst_type][dst]]))\n",
    "    edge_dict[(dst_type, attr[\"position\"], src_type)].append(\n",
    "        torch.tensor([nidx_by_type[dst_type][dst], nidx_by_type[src_type][src]]))\n",
    "# stack grouped tensors and add to data\n",
    "for key, value in edge_dict.items():\n",
    "    data[key[0], key[1], key[2]].edge_index = torch.stack(value, dim=1)\n",
    "\n",
    "edge_types = edge_dict.keys()"
   ],
   "metadata": {
    "collapsed": false,
    "ExecuteTime": {
     "end_time": "2024-04-21T16:48:14.041330Z",
     "start_time": "2024-04-21T16:48:13.517310Z"
    }
   },
   "id": "51544080d8e575a5",
   "execution_count": 16
  },
  {
   "cell_type": "code",
   "outputs": [
    {
     "data": {
      "text/plain": "tensor([[1, 3, 5],\n        [2, 4, 6]])"
     },
     "execution_count": 17,
     "metadata": {},
     "output_type": "execute_result"
    }
   ],
   "source": [
    "torch.stack([torch.tensor([1, 2]), torch.tensor([3, 4]), torch.tensor([5, 6])], dim=1)"
   ],
   "metadata": {
    "collapsed": false,
    "ExecuteTime": {
     "end_time": "2024-04-21T16:48:14.042185Z",
     "start_time": "2024-04-21T16:48:13.517870Z"
    }
   },
   "id": "13ea970bf2450e54",
   "execution_count": 17
  },
  {
   "cell_type": "code",
   "outputs": [
    {
     "data": {
      "text/plain": "True"
     },
     "execution_count": 18,
     "metadata": {},
     "output_type": "execute_result"
    }
   ],
   "source": [
    "data.validate()"
   ],
   "metadata": {
    "collapsed": false,
    "ExecuteTime": {
     "end_time": "2024-04-21T16:48:14.042763Z",
     "start_time": "2024-04-21T16:48:13.518132Z"
    }
   },
   "id": "6d7ce6c5aeb59b17",
   "execution_count": 18
  },
  {
   "cell_type": "code",
   "outputs": [
    {
     "data": {
      "text/plain": "{'on_g': tensor([[0., 0.],\n         [0., 0.],\n         [0., 0.]]),\n 'obj': tensor([[3.],\n         [1.],\n         [0.],\n         [2.]]),\n 'ontable': tensor([[0.],\n         [0.],\n         [0.],\n         [0.]]),\n 'clear': tensor([[0.],\n         [0.],\n         [0.],\n         [0.]])}"
     },
     "execution_count": 19,
     "metadata": {},
     "output_type": "execute_result"
    }
   ],
   "source": [
    "data.x_dict"
   ],
   "metadata": {
    "collapsed": false,
    "ExecuteTime": {
     "end_time": "2024-04-21T16:48:14.176204Z",
     "start_time": "2024-04-21T16:48:13.518254Z"
    }
   },
   "id": "ac60f5f469b16a2b",
   "execution_count": 19
  },
  {
   "cell_type": "code",
   "outputs": [
    {
     "data": {
      "text/plain": "<Figure size 640x480 with 1 Axes>",
      "image/png": "[encoded data removed]"
     },
     "metadata": {},
     "output_type": "display_data"
    }
   ],
   "source": [
    "from torch_geometric.utils import to_networkx\n",
    "\n",
    "hgraph: nx.Graph = to_networkx(data, to_multi=True)\n",
    "pos = nx.spring_layout(hgraph)\n",
    "nx.draw_networkx(hgraph)"
   ],
   "metadata": {
    "collapsed": false,
    "ExecuteTime": {
     "end_time": "2024-04-21T16:48:14.178857Z",
     "start_time": "2024-04-21T16:48:13.550615Z"
    }
   },
   "id": "6ef2e1eb7df4d039",
   "execution_count": 20
  },
  {
   "cell_type": "code",
   "outputs": [],
   "source": [
    "class SelectMP(pyg.nn.SimpleConv):\n",
    "\n",
    "    def __init__(self,\n",
    "                 position: int,\n",
    "                 aggr: Optional[Union[str, List[str]]] = 'sum', *,\n",
    "                 aggr_kwargs: Optional[Dict[str, Any]] = None,\n",
    "                 flow: str = \"source_to_target\",\n",
    "                 node_dim: int = -2,\n",
    "                 decomposed_layers: int = 1) -> None:\n",
    "        super().__init__(aggr, aggr_kwargs=aggr_kwargs, flow=flow, node_dim=node_dim,\n",
    "                         decomposed_layers=decomposed_layers)\n",
    "        self.position = position\n",
    "\n",
    "    def message(self, x_j: Tensor) -> Tensor:\n",
    "        selected = x_j[:, self.position].view(-1, 1)\n",
    "        print(\"Selected:\")\n",
    "        print(selected)\n",
    "        return selected\n",
    "\n"
   ],
   "metadata": {
    "collapsed": false,
    "ExecuteTime": {
     "end_time": "2024-04-21T16:48:14.179397Z",
     "start_time": "2024-04-21T16:48:13.836078Z"
    }
   },
   "id": "66ee6386b7d3cd97",
   "execution_count": 21
  },
  {
   "cell_type": "code",
   "outputs": [],
   "source": [
    "from typing import Optional, Union, List\n",
    "from torch import Tensor\n",
    "\n",
    "\n",
    "class MP(pyg.nn.SimpleConv):\n",
    "\n",
    "    def __init__(self, aggr: Optional[Union[str, List[str]]] = \"sum\",\n",
    "                 combine_root: Optional[str] = None, **kwargs):\n",
    "        super().__init__(aggr, combine_root, **kwargs)\n",
    "\n",
    "    def forward(self, x, edge_index) -> Tensor:\n",
    "        print(\"Forward: \")\n",
    "        print(x)\n",
    "        print(edge_index)\n",
    "        print()\n",
    "        return super().forward(x, edge_index)\n",
    "\n",
    "    def message(self, x_j: Tensor, edge_weight) -> Tensor:\n",
    "        print(\"Message: \")\n",
    "        print(x_j)\n",
    "        return super().message(x_j, edge_weight)\n",
    "\n",
    "    def aggregate(self, inputs, index, ptr, dim_size) -> Tensor:\n",
    "        print(\"Aggregate: \")\n",
    "        print(inputs)\n",
    "        print(index)\n",
    "        print(ptr)\n",
    "        print(dim_size)\n",
    "        return super().aggregate(inputs, index, ptr, dim_size)\n",
    "\n"
   ],
   "metadata": {
    "collapsed": false,
    "ExecuteTime": {
     "end_time": "2024-04-21T16:48:14.179792Z",
     "start_time": "2024-04-21T16:48:13.836168Z"
    }
   },
   "id": "1fc2ada021533c67",
   "execution_count": 22
  },
  {
   "cell_type": "code",
   "outputs": [
    {
     "data": {
      "text/plain": "HeteroData(\n  on_g={ x=[3, 2] },\n  obj={ x=[4, 1] },\n  ontable={ x=[4, 1] },\n  clear={ x=[4, 1] },\n  (obj, 0, clear)={ edge_index=[2, 4] },\n  (clear, 0, obj)={ edge_index=[2, 4] },\n  (obj, 0, ontable)={ edge_index=[2, 4] },\n  (ontable, 0, obj)={ edge_index=[2, 4] },\n  (obj, 0, on_g)={ edge_index=[2, 3] },\n  (on_g, 0, obj)={ edge_index=[2, 3] },\n  (obj, 1, on_g)={ edge_index=[2, 3] },\n  (on_g, 1, obj)={ edge_index=[2, 3] }\n)"
     },
     "execution_count": 23,
     "metadata": {},
     "output_type": "execute_result"
    }
   ],
   "source": [
    "data"
   ],
   "metadata": {
    "collapsed": false,
    "ExecuteTime": {
     "end_time": "2024-04-21T16:48:14.180232Z",
     "start_time": "2024-04-21T16:48:13.860304Z"
    }
   },
   "id": "4267712d3397988",
   "execution_count": 23
  },
  {
   "cell_type": "code",
   "outputs": [],
   "source": [
    "from torch_geometric.nn.module_dict import ModuleDict\n",
    "from torch_geometric.nn import HeteroConv, SimpleConv\n",
    "from torch_geometric.typing import EdgeType, NodeType\n",
    "\n",
    "\n",
    "class FanOutMP(torch.nn.Module):\n",
    "\n",
    "    def __init__(self,\n",
    "                 edge_types: List[EdgeType],\n",
    "                 update_mlp_by_dst: Dict[str, torch.nn.Module]\n",
    "                 ):\n",
    "\n",
    "        super().__init__()\n",
    "        self.edge_types = edge_types\n",
    "        self.update_mlp_by_dst = ModuleDict(update_mlp_by_dst)\n",
    "        self.simple = SimpleConv()\n",
    "\n",
    "    def forward(self, *args_dict, **kwargs_dict) -> Dict[NodeType, Tensor]:\n",
    "        out_dict: Dict[str, List[Tensor]] = {}\n",
    "        print(\"FanOut forward:\" + str(self.edge_types))\n",
    "        for edge_type in self.edge_types:\n",
    "            src, rel, dst = edge_type\n",
    "            has_edge_level_arg = False\n",
    "\n",
    "            args = []\n",
    "            for value_dict in args_dict:\n",
    "                if edge_type in value_dict:\n",
    "                    has_edge_level_arg = True\n",
    "                    args.append(value_dict[edge_type])\n",
    "                elif src == dst and src in value_dict:\n",
    "                    args.append(value_dict[src])\n",
    "                elif src in value_dict or dst in value_dict:\n",
    "                    args.append((\n",
    "                        value_dict.get(src, None),\n",
    "                        value_dict.get(dst, None),\n",
    "                    ))\n",
    "\n",
    "            kwargs = {}\n",
    "            for arg, value_dict in kwargs_dict.items():\n",
    "                if not arg.endswith('_dict'):\n",
    "                    raise ValueError(\n",
    "                        f\"Keyword arguments in '{self.__class__.__name__}' \"\n",
    "                        f\"need to end with '_dict' (got '{arg}')\")\n",
    "\n",
    "                arg = arg[:-5]  # `{*}_dict`\n",
    "                if edge_type in value_dict:\n",
    "                    has_edge_level_arg = True\n",
    "                    kwargs[arg] = value_dict[edge_type]\n",
    "                elif src == dst and src in value_dict:\n",
    "                    kwargs[arg] = value_dict[src]\n",
    "                elif src in value_dict or dst in value_dict:\n",
    "                    kwargs[arg] = (\n",
    "                        value_dict.get(src, None),\n",
    "                        value_dict.get(dst, None),\n",
    "                    )\n",
    "\n",
    "            if not has_edge_level_arg:\n",
    "                continue\n",
    "\n",
    "            out = self.simple(*args, **kwargs)  # one entry for every node of type dst \n",
    "            pos = int(rel)\n",
    "            if dst not in out_dict:\n",
    "                out_dict[dst] = [(pos, out)]\n",
    "            else:\n",
    "                out_dict[dst].append((pos, out))\n",
    "\n",
    "        for dst, value in out_dict.items():\n",
    "            sorted_out = sorted(value, key=lambda x: x[0])\n",
    "            stacked = torch.cat([out for _, out in sorted_out], dim=1)\n",
    "            print(\"Fan out stacked:\")\n",
    "            print(stacked)\n",
    "            out_dict[dst] = self.update_mlp_by_dst[dst](stacked)\n",
    "\n",
    "        return out_dict\n"
   ],
   "metadata": {
    "collapsed": false,
    "ExecuteTime": {
     "end_time": "2024-04-21T16:48:14.180608Z",
     "start_time": "2024-04-21T16:48:13.860395Z"
    }
   },
   "id": "31a64f504c4dd6c",
   "execution_count": 24
  },
  {
   "cell_type": "code",
   "outputs": [],
   "source": [
    "\n",
    "\n",
    "class HGT(torch.nn.Module):\n",
    "    def __init__(self,\n",
    "                 hidden_channels,\n",
    "                 out_channels,\n",
    "                 num_layer: int,\n",
    "                 edge_to_obj,\n",
    "                 edge_to_atom,\n",
    "                 arity_by_pred: Dict[str, int],\n",
    "                 ):\n",
    "        super().__init__()\n",
    "\n",
    "        self.num_layer = num_layer\n",
    "        mlp_by_pred = {\n",
    "            pred: pyg.nn.MLP([arity_by_pred[pred] * hidden_channels, hidden_channels,\n",
    "                              arity_by_pred[pred] * hidden_channels, ]) for\n",
    "            _, _, pred in edge_to_atom}\n",
    "\n",
    "        self.obj_to_atom = FanOutMP(edge_to_atom, mlp_by_pred)\n",
    "\n",
    "        self.obj_update = pyg.nn.MLP(\n",
    "            [hidden_channels * 2, hidden_channels, hidden_channels])\n",
    "        self.atom_to_obj = HeteroConv({\n",
    "            (src, pos, dst): SelectMP(int(pos)) for src, pos, dst in edge_to_obj}\n",
    "        )\n",
    "        self.lin = Linear(hidden_channels, out_channels)\n",
    "\n",
    "    def layer(self, x_dict, edge_index_dict):\n",
    "        out = self.obj_to_atom(x_dict, edge_index_dict)  # flows from objects to atoms\n",
    "        x_dict.update(out)  # update atom embeddings\n",
    "        out = self.atom_to_obj(x_dict, edge_index_dict)  # flows form atoms to objects\n",
    "        # group old embedding current embedding for each object\n",
    "        obj_emb = torch.cat([x_dict[\"obj\"], out[\"obj\"]], dim=1)\n",
    "        obj_emb = self.obj_update(obj_emb)  # run through update-mlp\n",
    "        x_dict.update({\"obj\": obj_emb})\n",
    "\n",
    "    def forward(self, x_dict, edge_index_dict):\n",
    "        for _ in range(self.num_layer):\n",
    "            self.layer(x_dict, edge_index_dict)\n",
    "        return self.lin(x_dict['obj'])\n"
   ],
   "metadata": {
    "collapsed": false,
    "ExecuteTime": {
     "end_time": "2024-04-21T16:48:14.181011Z",
     "start_time": "2024-04-21T16:48:13.862252Z"
    }
   },
   "id": "1c7f1cd29ef9d491",
   "execution_count": 25
  },
  {
   "cell_type": "code",
   "outputs": [
    {
     "name": "stderr",
     "output_type": "stream",
     "text": [
      "/work/rleap1/jakob.krude/projects/rgnet/venv/lib/python3.10/site-packages/torch_geometric/nn/conv/hetero_conv.py:76: UserWarning: There exist node types ({'on_g', 'ontable', 'clear'}) whose representations do not get updated during message passing as they do not occur as destination type in any edge type. This may lead to unexpected behavior.\n",
      "  warnings.warn(\n"
     ]
    }
   ],
   "source": [
    "to_atom = [(src, pos, dst) for src, pos, dst in edge_types if dst != \"obj\"]\n",
    "to_obj = [(src, pos, dst) for src, pos, dst in edge_types if dst == \"obj\"]\n",
    "model = HGT(hidden_channels=hidden_size, out_channels=1, edge_to_obj=to_obj,\n",
    "            edge_to_atom=to_atom, arity_by_pred=dict(graph.graph.items()), num_layer=1)"
   ],
   "metadata": {
    "collapsed": false,
    "ExecuteTime": {
     "end_time": "2024-04-21T16:48:14.201579Z",
     "start_time": "2024-04-21T16:48:13.864084Z"
    }
   },
   "id": "f77a64877ec8b06a",
   "execution_count": 26
  },
  {
   "cell_type": "code",
   "outputs": [
    {
     "name": "stdout",
     "output_type": "stream",
     "text": [
      "FanOut forward:[('obj', '0', 'clear'), ('obj', '0', 'ontable'), ('obj', '0', 'on_g'), ('obj', '1', 'on_g')]\n",
      "Fan out stacked:\n",
      "tensor([[2.],\n",
      "        [0.],\n",
      "        [1.],\n",
      "        [3.]])\n",
      "Fan out stacked:\n",
      "tensor([[2.],\n",
      "        [0.],\n",
      "        [1.],\n",
      "        [3.]])\n",
      "Fan out stacked:\n",
      "tensor([[3., 2.],\n",
      "        [2., 1.],\n",
      "        [1., 0.]])\n",
      "X dict:\n",
      "{'on_g': tensor([[-1.5914, -0.4099],\n",
      "        [-0.7277, -0.4242],\n",
      "        [-0.7277, -0.4242]], grad_fn=<AddmmBackward0>), 'obj': tensor([[3.],\n",
      "        [1.],\n",
      "        [0.],\n",
      "        [2.]]), 'ontable': tensor([[-0.0445],\n",
      "        [ 0.4657],\n",
      "        [ 0.1256],\n",
      "        [-0.0445]], grad_fn=<AddmmBackward0>), 'clear': tensor([[0.5712],\n",
      "        [0.4526],\n",
      "        [0.5317],\n",
      "        [0.5712]], grad_fn=<AddmmBackward0>)}\n",
      "Selected:\n",
      "tensor([[0.5712],\n",
      "        [0.5317],\n",
      "        [0.4526],\n",
      "        [0.5712]], grad_fn=<ViewBackward0>)\n",
      "Selected:\n",
      "tensor([[-0.0445],\n",
      "        [ 0.1256],\n",
      "        [ 0.4657],\n",
      "        [-0.0445]], grad_fn=<ViewBackward0>)\n",
      "Selected:\n",
      "tensor([[-1.5914],\n",
      "        [-0.7277],\n",
      "        [-0.7277]], grad_fn=<ViewBackward0>)\n",
      "Selected:\n",
      "tensor([[-0.4242],\n",
      "        [-0.4242],\n",
      "        [-0.4099]], grad_fn=<ViewBackward0>)\n",
      "Out: \n",
      "{'obj': tensor([[-1.0646],\n",
      "        [-0.4946],\n",
      "        [ 0.4941],\n",
      "        [-0.6108]], grad_fn=<SumBackward1>)}\n",
      "old obj: \n",
      "tensor([[3.],\n",
      "        [1.],\n",
      "        [0.],\n",
      "        [2.]])\n",
      "Cat obj: \n",
      "tensor([[ 3.0000, -1.0646],\n",
      "        [ 1.0000, -0.4946],\n",
      "        [ 0.0000,  0.4941],\n",
      "        [ 2.0000, -0.6108]], grad_fn=<CatBackward0>)\n",
      "Updated obj: \n",
      "tensor([[0.6549],\n",
      "        [0.9106],\n",
      "        [1.8436],\n",
      "        [0.6549]], grad_fn=<AddmmBackward0>)\n",
      "X dict:\n",
      "{'on_g': tensor([[-1.5914, -0.4099],\n",
      "        [-0.7277, -0.4242],\n",
      "        [-0.7277, -0.4242]], grad_fn=<AddmmBackward0>), 'obj': tensor([[0.6549],\n",
      "        [0.9106],\n",
      "        [1.8436],\n",
      "        [0.6549]], grad_fn=<AddmmBackward0>), 'ontable': tensor([[-0.0445],\n",
      "        [ 0.4657],\n",
      "        [ 0.1256],\n",
      "        [-0.0445]], grad_fn=<AddmmBackward0>), 'clear': tensor([[0.5712],\n",
      "        [0.4526],\n",
      "        [0.5317],\n",
      "        [0.5712]], grad_fn=<AddmmBackward0>)}\n"
     ]
    },
    {
     "data": {
      "text/plain": "tensor([[0.5158],\n        [0.6441],\n        [1.1124],\n        [0.5158]], grad_fn=<AddmmBackward0>)"
     },
     "execution_count": 27,
     "metadata": {},
     "output_type": "execute_result"
    }
   ],
   "source": [
    "model(data.x_dict, data.edge_index_dict)"
   ],
   "metadata": {
    "collapsed": false,
    "ExecuteTime": {
     "end_time": "2024-04-21T16:48:14.202243Z",
     "start_time": "2024-04-21T16:48:13.874747Z"
    }
   },
   "id": "49e00576942710c9",
   "execution_count": 27
  },
  {
   "cell_type": "code",
   "outputs": [
    {
     "data": {
      "text/plain": "tensor([[1., 2., 8., 7.],\n        [3., 4., 6., 5.],\n        [5., 6., 4., 3.],\n        [7., 8., 2., 1.]])"
     },
     "execution_count": 28,
     "metadata": {},
     "output_type": "execute_result"
    }
   ],
   "source": [
    "t1 = torch.tensor([[1., 2.0],\n",
    "                   [3., 4.0],\n",
    "                   [5., 6.0],\n",
    "                   [7., 8.]])\n",
    "\n",
    "t2 = torch.tensor([[8., 7.],\n",
    "                   [6., 5.],\n",
    "                   [4., 3.0],\n",
    "                   [2., 1.0]])\n",
    "torch.cat([t1, t2], dim=1)"
   ],
   "metadata": {
    "collapsed": false,
    "ExecuteTime": {
     "end_time": "2024-04-21T17:05:52.874040Z",
     "start_time": "2024-04-21T17:05:52.868933Z"
    }
   },
   "id": "f3e70572e519edd2",
   "execution_count": 28
  },
  {
   "cell_type": "code",
   "outputs": [],
   "source": [
    "x = torch.tensor([[1],\n",
    "                  [0],\n",
    "                  [2]])\n",
    "\n",
    "# Select the 2nd element from each row\n",
    "selected_elements = x[:, 0].view(-1, 1)\n",
    "\n",
    "print(selected_elements)"
   ],
   "metadata": {
    "collapsed": false,
    "ExecuteTime": {
     "start_time": "2024-04-21T13:04:39.725821Z"
    }
   },
   "id": "5668163ce8b5a978",
   "execution_count": null
  },
  {
   "cell_type": "code",
   "outputs": [
    {
     "data": {
      "text/plain": "tensor([[0., 0., 0.],\n        [0., 0., 0.]])"
     },
     "execution_count": 40,
     "metadata": {},
     "output_type": "execute_result"
    }
   ],
   "source": [
    "torch.zeros((2, 3))"
   ],
   "metadata": {
    "collapsed": false,
    "ExecuteTime": {
     "end_time": "2024-04-21T17:33:05.338189Z",
     "start_time": "2024-04-21T17:33:05.313457Z"
    }
   },
   "id": "949b7709d5ebd07c",
   "execution_count": 40
  },
  {
   "cell_type": "code",
   "outputs": [
    {
     "name": "stderr",
     "output_type": "stream",
     "text": [
      "Processing...\n",
      "Done!\n"
     ]
    }
   ],
   "source": [
    "from rgnet.models.hetero_gnn import HGT\n",
    "from rgnet.pddl_import import import_all_from\n",
    "from rgnet.encoding.hetero import HeteroEncoding\n",
    "from rgnet.supervised.data import MultiInstanceSupervisedSet\n",
    "from torch_geometric.loader import DataLoader\n",
    "import torch\n",
    "\n",
    "hidden_size = 4\n",
    "\n",
    "domain, problems = import_all_from(\"test/pddl_instances/blocks\")\n",
    "encoder = HeteroEncoding(domain, hidden_size=hidden_size)\n",
    "train_set = MultiInstanceSupervisedSet(problems, encoder, force_reload=True)\n",
    "train_loader = DataLoader(train_set, batch_size=2, shuffle=True)\n",
    "\n",
    "model = HGT(hidden_channels=hidden_size, out_channels=1, num_layer=1,\n",
    "            arity_by_pred=encoder.arity_by_pred, obj_name=encoder.obj_name)\n",
    "model.train()\n",
    "optimizer = torch.optim.Adam(model.parameters(), lr=0.01)\n",
    "loss_fn = torch.nn.L1Loss()\n",
    "\n",
    "batch = next(iter(train_loader))"
   ],
   "metadata": {
    "collapsed": false,
    "ExecuteTime": {
     "end_time": "2024-04-22T14:49:33.384665Z",
     "start_time": "2024-04-22T14:49:33.245936Z"
    }
   },
   "id": "440a70a4efa450ed",
   "execution_count": 5
  },
  {
   "cell_type": "code",
   "outputs": [
    {
     "data": {
      "text/plain": "tensor([0, 0, 0, 0, 1, 1, 1, 1])"
     },
     "execution_count": 9,
     "metadata": {},
     "output_type": "execute_result"
    }
   ],
   "source": [
    "batch[\"obj\"].batch"
   ],
   "metadata": {
    "collapsed": false,
    "ExecuteTime": {
     "end_time": "2024-04-22T14:50:09.386225Z",
     "start_time": "2024-04-22T14:50:09.352445Z"
    }
   },
   "id": "196953140e998f7b",
   "execution_count": 9
  },
  {
   "cell_type": "code",
   "outputs": [
    {
     "data": {
      "text/plain": "True"
     },
     "execution_count": 11,
     "metadata": {},
     "output_type": "execute_result"
    }
   ],
   "source": [
    "hasattr(batch[\"obj\"], \"batch\")"
   ],
   "metadata": {
    "collapsed": false,
    "ExecuteTime": {
     "end_time": "2024-04-22T14:52:24.255247Z",
     "start_time": "2024-04-22T14:52:24.234378Z"
    }
   },
   "id": "bc31dee1ab9151f4",
   "execution_count": 11
  },
  {
   "cell_type": "code",
   "outputs": [
    {
     "ename": "AttributeError",
     "evalue": "module 'rgnet' has no attribute 'models'",
     "output_type": "error",
     "traceback": [
      "\u001B[0;31m---------------------------------------------------------------------------\u001B[0m",
      "\u001B[0;31mAttributeError\u001B[0m                            Traceback (most recent call last)",
      "Cell \u001B[0;32mIn[1], line 3\u001B[0m\n\u001B[1;32m      1\u001B[0m \u001B[38;5;28;01mimport\u001B[39;00m \u001B[38;5;21;01mimportlib\u001B[39;00m\n\u001B[1;32m      2\u001B[0m \u001B[38;5;28;01mimport\u001B[39;00m \u001B[38;5;21;01mrgnet\u001B[39;00m\n\u001B[0;32m----> 3\u001B[0m importlib\u001B[38;5;241m.\u001B[39mreload(\u001B[43mrgnet\u001B[49m\u001B[38;5;241;43m.\u001B[39;49m\u001B[43mmodels\u001B[49m\u001B[38;5;241m.\u001B[39mhetero_gnn)\n",
      "\u001B[0;31mAttributeError\u001B[0m: module 'rgnet' has no attribute 'models'"
     ]
    }
   ],
   "source": [
    "import importlib\n",
    "import rgnet\n",
    "importlib.reload(rgnet.models.hetero_gnn)"
   ],
   "metadata": {
    "collapsed": false,
    "ExecuteTime": {
     "end_time": "2024-04-22T22:10:51.856940Z",
     "start_time": "2024-04-22T22:10:51.674879Z"
    }
   },
   "id": "2286afd4fc244093",
   "execution_count": 1
  },
  {
   "cell_type": "code",
   "outputs": [],
   "source": [
    "from rgnet.models.hetero_gnn import LightningHetero\n",
    "from rgnet.supervised.data import MultiInstanceSupervisedSet\n",
    "from rgnet.pddl_import import import_all_from\n",
    "from rgnet.encoding.hetero import HeteroEncoding"
   ],
   "metadata": {
    "collapsed": false,
    "ExecuteTime": {
     "end_time": "2024-04-22T22:11:02.172829Z",
     "start_time": "2024-04-22T22:10:58.051142Z"
    }
   },
   "id": "7a9c1aa8ff3986d5",
   "execution_count": 2
  },
  {
   "cell_type": "code",
   "outputs": [],
   "source": [
    "domain, problems = import_all_from(\"test/pddl_instances/blocks\")"
   ],
   "metadata": {
    "collapsed": false,
    "ExecuteTime": {
     "end_time": "2024-04-22T22:11:03.088276Z",
     "start_time": "2024-04-22T22:11:03.043089Z"
    }
   },
   "id": "19404e53f6e1657b",
   "execution_count": 3
  },
  {
   "cell_type": "code",
   "outputs": [],
   "source": [
    "encoder = HeteroEncoding(domain, hidden_size=4)"
   ],
   "metadata": {
    "collapsed": false,
    "ExecuteTime": {
     "end_time": "2024-04-22T22:11:03.439626Z",
     "start_time": "2024-04-22T22:11:03.403985Z"
    }
   },
   "id": "8c9292f4a05c8554",
   "execution_count": 4
  },
  {
   "cell_type": "code",
   "outputs": [],
   "source": [
    "import tempfile"
   ],
   "metadata": {
    "collapsed": false,
    "ExecuteTime": {
     "end_time": "2024-04-22T22:11:03.770479Z",
     "start_time": "2024-04-22T22:11:03.740886Z"
    }
   },
   "id": "4708c59d1a603fcf",
   "execution_count": 5
  },
  {
   "cell_type": "code",
   "outputs": [],
   "source": [
    "tempdir = tempfile.mkdtemp()"
   ],
   "metadata": {
    "collapsed": false,
    "ExecuteTime": {
     "end_time": "2024-04-22T22:11:04.106687Z",
     "start_time": "2024-04-22T22:11:04.074402Z"
    }
   },
   "id": "240e72983ee54e64",
   "execution_count": 6
  },
  {
   "cell_type": "code",
   "outputs": [
    {
     "data": {
      "text/plain": "'/var/tmp/tmp7so4svg9'"
     },
     "execution_count": 7,
     "metadata": {},
     "output_type": "execute_result"
    }
   ],
   "source": [
    "tempdir"
   ],
   "metadata": {
    "collapsed": false,
    "ExecuteTime": {
     "end_time": "2024-04-22T22:11:04.456554Z",
     "start_time": "2024-04-22T22:11:04.411628Z"
    }
   },
   "id": "5857e7ced9ba2aab",
   "execution_count": 7
  },
  {
   "cell_type": "code",
   "outputs": [
    {
     "name": "stderr",
     "output_type": "stream",
     "text": [
      "Processing...\n",
      "Done!\n"
     ]
    }
   ],
   "source": [
    "dataset = MultiInstanceSupervisedSet(problems, encoder, force_reload=True, root=tempdir)"
   ],
   "metadata": {
    "collapsed": false,
    "ExecuteTime": {
     "end_time": "2024-04-22T22:11:05.152747Z",
     "start_time": "2024-04-22T22:11:05.014691Z"
    }
   },
   "id": "7e77a6149dd03b4e",
   "execution_count": 8
  },
  {
   "cell_type": "code",
   "outputs": [],
   "source": [
    "from torch_geometric.loader import DataLoader \n",
    "import lightning"
   ],
   "metadata": {
    "collapsed": false,
    "ExecuteTime": {
     "end_time": "2024-04-22T22:11:09.886115Z",
     "start_time": "2024-04-22T22:11:09.858734Z"
    }
   },
   "id": "3c231ec99b55aa96",
   "execution_count": 9
  },
  {
   "cell_type": "code",
   "outputs": [],
   "source": [
    "train_loader = DataLoader(dataset, batch_size=2, shuffle=True)"
   ],
   "metadata": {
    "collapsed": false,
    "ExecuteTime": {
     "end_time": "2024-04-22T22:11:10.244849Z",
     "start_time": "2024-04-22T22:11:10.214233Z"
    }
   },
   "id": "a431b1fda7621ae6",
   "execution_count": 10
  },
  {
   "cell_type": "code",
   "outputs": [],
   "source": [
    "model = LightningHetero(hidden_size=4, num_layer=1,\n",
    "                        arity_by_pred=encoder.arity_by_pred, obj_name=encoder.obj_name)"
   ],
   "metadata": {
    "collapsed": false,
    "ExecuteTime": {
     "end_time": "2024-04-22T22:11:10.740054Z",
     "start_time": "2024-04-22T22:11:10.630034Z"
    }
   },
   "id": "1c0ad15b7fc27c7d",
   "execution_count": 11
  },
  {
   "cell_type": "code",
   "outputs": [
    {
     "data": {
      "text/plain": "True"
     },
     "execution_count": 17,
     "metadata": {},
     "output_type": "execute_result"
    }
   ],
   "source": [
    "isinstance(model, lightning.LightningModule)"
   ],
   "metadata": {
    "collapsed": false,
    "ExecuteTime": {
     "end_time": "2024-04-22T22:12:47.101942Z",
     "start_time": "2024-04-22T22:12:47.082293Z"
    }
   },
   "id": "b9eacea4d6b3f483",
   "execution_count": 17
  },
  {
   "cell_type": "code",
   "outputs": [],
   "source": [
    "from lightning import Trainer"
   ],
   "metadata": {
    "collapsed": false,
    "ExecuteTime": {
     "end_time": "2024-04-22T22:13:31.890913Z",
     "start_time": "2024-04-22T22:13:31.873012Z"
    }
   },
   "id": "3d069b40be4909e6",
   "execution_count": 18
  },
  {
   "cell_type": "code",
   "outputs": [
    {
     "name": "stderr",
     "output_type": "stream",
     "text": [
      "/work/rleap1/jakob.krude/projects/rgnet/venv/lib/python3.10/site-packages/lightning/fabric/plugins/environments/slurm.py:204: The `srun` command is available on your system but is not used. HINT: If your intention is to run Lightning on SLURM, prepend your python command with `srun` like so: srun python /work/rleap1/jakob.krude/projects/rgnet/venv/lib/pyt ...\n",
      "INFO:pytorch_lightning.utilities.rank_zero:GPU available: False, used: False\n",
      "INFO:pytorch_lightning.utilities.rank_zero:TPU available: False, using: 0 TPU cores\n",
      "INFO:pytorch_lightning.utilities.rank_zero:IPU available: False, using: 0 IPUs\n",
      "INFO:pytorch_lightning.utilities.rank_zero:HPU available: False, using: 0 HPUs\n",
      "/work/rleap1/jakob.krude/projects/rgnet/venv/lib/python3.10/site-packages/lightning/pytorch/trainer/connectors/logger_connector/logger_connector.py:75: Starting from v1.9.0, `tensorboardX` has been removed as a dependency of the `lightning.pytorch` package, due to potential conflicts with other packages in the ML ecosystem. For this reason, `logger=True` will use `CSVLogger` as the default logger, unless the `tensorboard` or `tensorboardX` packages are found. Please `pip install lightning[extra]` or one of them to enable TensorBoard support by default\n"
     ]
    }
   ],
   "source": [
    "trainer = Trainer(max_epochs=1)"
   ],
   "metadata": {
    "collapsed": false,
    "ExecuteTime": {
     "end_time": "2024-04-22T22:13:33.302086Z",
     "start_time": "2024-04-22T22:13:32.718924Z"
    }
   },
   "id": "ce6dc63dcee17ce4",
   "execution_count": 19
  },
  {
   "cell_type": "code",
   "outputs": [
    {
     "name": "stderr",
     "output_type": "stream",
     "text": [
      "/work/rleap1/jakob.krude/projects/rgnet/venv/lib/python3.10/site-packages/lightning/pytorch/trainer/configuration_validator.py:74: You defined a `validation_step` but have no `val_dataloader`. Skipping val loop.\n",
      "Missing logger folder: /work/rleap1/jakob.krude/projects/remote/rgnet/lightning_logs\n",
      "/work/rleap1/jakob.krude/projects/rgnet/venv/lib/python3.10/site-packages/lightning/pytorch/utilities/model_summary/model_summary.py:454: A layer with UninitializedParameter was found. Thus, the total number of parameters detected may be inaccurate.\n",
      "\n",
      "  | Name  | Type      | Params\n",
      "------------------------------------\n",
      "0 | model | HeteroGNN | 669   \n",
      "------------------------------------\n",
      "669       Trainable params\n",
      "0         Non-trainable params\n",
      "669       Total params\n",
      "0.003     Total estimated model params size (MB)\n",
      "/work/rleap1/jakob.krude/projects/rgnet/venv/lib/python3.10/site-packages/lightning/pytorch/trainer/connectors/data_connector.py:441: The 'train_dataloader' does not have many workers which may be a bottleneck. Consider increasing the value of the `num_workers` argument` to `num_workers=31` in the `DataLoader` to improve performance.\n"
     ]
    },
    {
     "data": {
      "text/plain": "Training: |          | 0/? [00:00<?, ?it/s]",
      "application/vnd.jupyter.widget-view+json": {
       "version_major": 2,
       "version_minor": 0,
       "model_id": "10acbd570e0f41ea9ce22acbcc9a81eb"
      }
     },
     "metadata": {},
     "output_type": "display_data"
    },
    {
     "name": "stderr",
     "output_type": "stream",
     "text": [
      "INFO:pytorch_lightning.utilities.rank_zero:`Trainer.fit` stopped: `max_epochs=1` reached.\n"
     ]
    }
   ],
   "source": [
    "trainer.fit(model, train_dataloaders=train_loader)"
   ],
   "metadata": {
    "collapsed": false,
    "ExecuteTime": {
     "end_time": "2024-04-22T22:13:35.379151Z",
     "start_time": "2024-04-22T22:13:34.604343Z"
    }
   },
   "id": "aaf5a569b104f0f5",
   "execution_count": 20
  },
  {
   "cell_type": "code",
   "outputs": [],
   "source": [],
   "metadata": {
    "collapsed": false
   },
   "id": "d847c3c25d3764f3"
  }
 ],
 "metadata": {
  "kernelspec": {
   "display_name": "Python 3",
   "language": "python",
   "name": "python3"
  },
  "language_info": {
   "codemirror_mode": {
    "name": "ipython",
    "version": 2
   },
   "file_extension": ".py",
   "mimetype": "text/x-python",
   "name": "python",
   "nbconvert_exporter": "python",
   "pygments_lexer": "ipython2",
   "version": "2.7.6"
  }
 },
 "nbformat": 4,
 "nbformat_minor": 5
}
