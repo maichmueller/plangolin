{
 "cells": [
  {
   "cell_type": "code",
   "execution_count": 1,
   "id": "initial_id",
   "metadata": {
    "collapsed": true,
    "ExecuteTime": {
     "end_time": "2024-04-25T14:33:05.592047Z",
     "start_time": "2024-04-25T14:33:00.413713Z"
    }
   },
   "outputs": [],
   "source": [
    "from typing import Optional, Union, List, Dict, Any\n",
    "\n",
    "import lightning\n",
    "import torch, torch_geometric as pyg, networkx as nx, pymimir as mi\n",
    "import torch_geometric.nn\n",
    "from torch import Tensor\n",
    "from torch_geometric.typing import OptTensor, EdgeType, NodeType"
   ]
  },
  {
   "cell_type": "code",
   "outputs": [],
   "source": [
    "import torch.nn.functional as F\n",
    "\n",
    "import torch_geometric.transforms as T\n",
    "from torch_geometric.datasets import DBLP\n",
    "from torch_geometric.nn import HGTConv, Linear, Aggregation, MessagePassing"
   ],
   "metadata": {
    "collapsed": false,
    "ExecuteTime": {
     "end_time": "2024-04-25T14:33:05.598714Z",
     "start_time": "2024-04-25T14:33:05.591129Z"
    }
   },
   "id": "e789cf8be677d35c",
   "execution_count": 2
  },
  {
   "cell_type": "code",
   "outputs": [
    {
     "data": {
      "text/plain": "'/work/rleap1/jakob.krude/projects/remote/rgnet/examples'"
     },
     "execution_count": 5,
     "metadata": {},
     "output_type": "execute_result"
    }
   ],
   "source": [
    "import os\n",
    "os.getcwd()"
   ],
   "metadata": {
    "collapsed": false,
    "ExecuteTime": {
     "end_time": "2024-04-25T14:33:51.952734Z",
     "start_time": "2024-04-25T14:33:51.943078Z"
    }
   },
   "id": "aa58d415151734b1",
   "execution_count": 5
  },
  {
   "cell_type": "code",
   "outputs": [],
   "source": [
    "from pymimir import State, Problem, Domain\n",
    "from rgnet.utils import import_all_from"
   ],
   "metadata": {
    "collapsed": false,
    "ExecuteTime": {
     "end_time": "2024-04-25T14:33:05.604069Z",
     "start_time": "2024-04-25T14:33:05.592271Z"
    }
   },
   "id": "3990a87f642045b6",
   "execution_count": 3
  },
  {
   "cell_type": "code",
   "outputs": [],
   "source": [
    "domain, problems = import_all_from(\"../test/pddl_instances/blocks\")"
   ],
   "metadata": {
    "collapsed": false,
    "ExecuteTime": {
     "end_time": "2024-04-25T14:33:56.358706Z",
     "start_time": "2024-04-25T14:33:56.349501Z"
    }
   },
   "id": "76847203cf5c1908",
   "execution_count": 6
  },
  {
   "cell_type": "code",
   "outputs": [
    {
     "data": {
      "text/plain": "[<Atom 'clear(a)'>,\n <Atom 'clear(c)'>,\n <Atom 'ontable(g)'>,\n <Atom 'ontable(f)'>,\n <Atom 'on(a, g)'>,\n <Atom 'on(c, d)'>,\n <Atom 'on(d, b)'>,\n <Atom 'on(b, e)'>,\n <Atom 'on(e, f)'>,\n <Atom 'handempty()'>]"
     },
     "execution_count": 7,
     "metadata": {},
     "output_type": "execute_result"
    }
   ],
   "source": [
    "problem: Problem = problems[0]\n",
    "initial_state = problem.create_state(problem.initial)\n",
    "initial_state.get_atoms()"
   ],
   "metadata": {
    "collapsed": false,
    "ExecuteTime": {
     "end_time": "2024-04-25T14:33:59.705693Z",
     "start_time": "2024-04-25T14:33:59.698378Z"
    }
   },
   "id": "fdccef775bdce858",
   "execution_count": 7
  },
  {
   "cell_type": "code",
   "outputs": [
    {
     "data": {
      "text/plain": "[<Literal 'on(a, e)'>,\n <Literal 'on(e, b)'>,\n <Literal 'on(b, f)'>,\n <Literal 'on(f, g)'>,\n <Literal 'on(g, c)'>,\n <Literal 'on(c, d)'>]"
     },
     "execution_count": 8,
     "metadata": {},
     "output_type": "execute_result"
    }
   ],
   "source": [
    "problem.goal"
   ],
   "metadata": {
    "collapsed": false,
    "ExecuteTime": {
     "end_time": "2024-04-25T14:34:00.058631Z",
     "start_time": "2024-04-25T14:34:00.035990Z"
    }
   },
   "id": "845ffcb4a5bdc868",
   "execution_count": 8
  },
  {
   "cell_type": "code",
   "outputs": [
    {
     "data": {
      "text/plain": "[<Object 'a'>, <Object 'e'>]"
     },
     "execution_count": 9,
     "metadata": {},
     "output_type": "execute_result"
    }
   ],
   "source": [
    "a: mi.Atom = problem.goal[0].atom\n",
    "a.terms"
   ],
   "metadata": {
    "collapsed": false,
    "ExecuteTime": {
     "end_time": "2024-04-25T14:34:00.642593Z",
     "start_time": "2024-04-25T14:34:00.630880Z"
    }
   },
   "id": "a1c903d65c5d1045",
   "execution_count": 9
  },
  {
   "cell_type": "code",
   "outputs": [],
   "source": [
    "import itertools\n",
    "\n",
    "# Build hetero graph from state\n",
    "# One node for each object\n",
    "# One node for each atom\n",
    "# Edge label = position in atom\n",
    "state = problem.create_state(problem.initial)\n",
    "graph = nx.Graph()\n",
    "\n",
    "for obj in problem.objects:\n",
    "    graph.add_node(obj.name, type=\"obj\")\n",
    "\n",
    "state_atoms = zip(\n",
    "    filter(lambda a: a.predicate.name != \"=\", state.get_atoms()),\n",
    "    itertools.repeat(\"\"),\n",
    "    itertools.repeat(\"\"),\n",
    ")\n",
    "goal_atoms = (\n",
    "    (literal.atom, \"~\" if literal.negated else \"\", \"_g\")\n",
    "    for literal in problem.goal\n",
    ")\n",
    "\n",
    "for atom, prefix, suffix in itertools.chain(state_atoms, goal_atoms):\n",
    "\n",
    "    if atom.predicate.arity == 0:\n",
    "        continue\n",
    "\n",
    "    predicate: mi.Predicate = atom.predicate\n",
    "    pred_name: str = predicate.name\n",
    "    node_type = f\"{prefix}{pred_name}{suffix}\"\n",
    "    graph.graph[node_type] = predicate.arity\n",
    "\n",
    "    obj_names = \",\".join(obj.name for obj in atom.terms)\n",
    "\n",
    "    atom_node = f\"{prefix}{pred_name}({obj_names}){suffix}\"\n",
    "    graph.add_node(\n",
    "        atom_node,\n",
    "        type=node_type,\n",
    "    )\n",
    "\n",
    "    for pos, obj in enumerate(atom.terms):\n",
    "        # Connect predicate node to object node\n",
    "        graph.add_edge(obj.name, atom_node, position=str(pos))\n",
    "\n"
   ],
   "metadata": {
    "collapsed": false,
    "ExecuteTime": {
     "end_time": "2024-04-25T14:34:01.229974Z",
     "start_time": "2024-04-25T14:34:01.213415Z"
    }
   },
   "id": "b2ccb4bce2939658",
   "execution_count": 10
  },
  {
   "cell_type": "code",
   "outputs": [
    {
     "data": {
      "text/plain": "defaultdict(list,\n            {'obj': ['e', 'b', 'd', 'f', 'g', 'c', 'a'],\n             'clear': ['clear(a)', 'clear(c)'],\n             'ontable': ['ontable(g)', 'ontable(f)'],\n             'on': ['on(a,g)', 'on(c,d)', 'on(d,b)', 'on(b,e)', 'on(e,f)'],\n             'on_g': ['on(a,e)_g',\n              'on(e,b)_g',\n              'on(b,f)_g',\n              'on(f,g)_g',\n              'on(g,c)_g',\n              'on(c,d)_g']})"
     },
     "execution_count": 11,
     "metadata": {},
     "output_type": "execute_result"
    }
   ],
   "source": [
    "from collections import defaultdict\n",
    "\n",
    "nodes_by_type = defaultdict(list)\n",
    "for key, value in nx.get_node_attributes(graph, \"type\").items():\n",
    "    nodes_by_type[value].append(key)\n",
    "nodes_by_type"
   ],
   "metadata": {
    "collapsed": false,
    "ExecuteTime": {
     "end_time": "2024-04-25T14:34:01.772359Z",
     "start_time": "2024-04-25T14:34:01.763974Z"
    }
   },
   "id": "822ace56e009e705",
   "execution_count": 11
  },
  {
   "cell_type": "code",
   "outputs": [
    {
     "data": {
      "text/plain": "<Figure size 700x700 with 1 Axes>",
      "image/png": "[encoded data removed]"
     },
     "metadata": {},
     "output_type": "display_data"
    }
   ],
   "source": [
    "from matplotlib import pyplot as plt\n",
    "\n",
    "type_to_color = {ntype: i for i, ntype in\n",
    "                 enumerate(set(nx.get_node_attributes(graph, \"type\").values()))}\n",
    "pos = nx.spring_layout(graph)\n",
    "plt.figure(figsize=(7, 7))\n",
    "\n",
    "nx.draw_networkx(\n",
    "    graph,\n",
    "    pos=pos,\n",
    "    with_labels=True,\n",
    "    labels={n: str(n) for n in graph.nodes},\n",
    "    nodelist=[n for n in graph.nodes],\n",
    "    node_color=[type_to_color[attr[\"type\"]] for _, attr in graph.nodes.data()],\n",
    "    cmap=\"tab10\",\n",
    ")\n",
    "nx.draw_networkx_edge_labels(graph, pos=pos,\n",
    "                             edge_labels={(src, dst): attr[\"position\"] for\n",
    "                                          src, dst, attr in graph.edges.data()})\n",
    "plt.show()"
   ],
   "metadata": {
    "collapsed": false,
    "ExecuteTime": {
     "end_time": "2024-04-25T14:34:02.564205Z",
     "start_time": "2024-04-25T14:34:02.323847Z"
    }
   },
   "id": "b705a203141f0b5e",
   "execution_count": 12
  },
  {
   "cell_type": "code",
   "outputs": [
    {
     "data": {
      "text/plain": "tensor([[0., 0., 0., 0., 0., 0., 0., 0.],\n        [0., 0., 0., 0., 0., 0., 0., 0.],\n        [0., 0., 0., 0., 0., 0., 0., 0.],\n        [0., 0., 0., 0., 0., 0., 0., 0.],\n        [0., 0., 0., 0., 0., 0., 0., 0.],\n        [0., 0., 0., 0., 0., 0., 0., 0.]])"
     },
     "execution_count": 13,
     "metadata": {},
     "output_type": "execute_result"
    }
   ],
   "source": [
    "node_type = \"on_g\"\n",
    "hidden_size = 4\n",
    "arity = graph.graph[node_type]\n",
    "# node features arity x hidden_size\n",
    "node_features = torch.stack(\n",
    "    [torch.zeros(hidden_size * arity) for _, attr in graph.nodes.data() if\n",
    "     attr[\"type\"] == node_type])\n",
    "node_features"
   ],
   "metadata": {
    "collapsed": false,
    "ExecuteTime": {
     "end_time": "2024-04-25T14:34:03.239579Z",
     "start_time": "2024-04-25T14:34:03.209141Z"
    }
   },
   "id": "6fcec2d2f6352d64",
   "execution_count": 13
  },
  {
   "cell_type": "code",
   "outputs": [
    {
     "data": {
      "text/plain": "tensor([[0., 0., 0., 0.],\n        [0., 0., 0., 0.],\n        [0., 0., 0., 0.],\n        [0., 0., 0., 0.],\n        [0., 0., 0., 0.],\n        [0., 0., 0., 0.]])"
     },
     "execution_count": 14,
     "metadata": {},
     "output_type": "execute_result"
    }
   ],
   "source": [
    "torch.zeros(len([1 for _, attr in graph.nodes.data() if attr[\"type\"] == node_type]),\n",
    "            hidden_size)"
   ],
   "metadata": {
    "collapsed": false,
    "ExecuteTime": {
     "end_time": "2024-04-25T14:34:03.744354Z",
     "start_time": "2024-04-25T14:34:03.728543Z"
    }
   },
   "id": "85faaabbd964cb6c",
   "execution_count": 14
  },
  {
   "cell_type": "code",
   "outputs": [],
   "source": [
    "from torch_geometric.data import HeteroData"
   ],
   "metadata": {
    "collapsed": false,
    "ExecuteTime": {
     "start_time": "2024-04-25T14:33:05.842695Z"
    }
   },
   "id": "b25edefa465d1e3d",
   "execution_count": null
  },
  {
   "cell_type": "code",
   "outputs": [],
   "source": [
    "obj_label = sorted([node for node, attr in graph.nodes.data() if attr[\"type\"] == \"obj\"])\n",
    "obj_label = {o: i for i, o in enumerate(obj_label)}\n",
    "obj_label"
   ],
   "metadata": {
    "collapsed": false,
    "ExecuteTime": {
     "start_time": "2024-04-25T14:33:05.843072Z"
    }
   },
   "id": "584fc4984b5783f3",
   "execution_count": null
  },
  {
   "cell_type": "code",
   "outputs": [],
   "source": [
    "torch.stack(\n",
    "    [torch.full(fill_value=obj_label[node], size=(2,)) for node, attr in\n",
    "     graph.nodes.data() if attr[\"type\"] == \"obj\"])"
   ],
   "metadata": {
    "collapsed": false,
    "ExecuteTime": {
     "start_time": "2024-04-25T14:33:05.843241Z"
    }
   },
   "id": "6b552889de2c14d5",
   "execution_count": null
  },
  {
   "cell_type": "code",
   "outputs": [],
   "source": [
    "# group nodes by type\n",
    "by_type = {ntype: [node for node, attr in graph.nodes.data() if attr[\"type\"] == ntype]\n",
    "           for\n",
    "           ntype in set(nx.get_node_attributes(graph, \"type\").values())}\n",
    "\n",
    "nidx_by_type = {ntype: {node: i for i, node in enumerate(by_type[ntype])} for ntype in\n",
    "                by_type.keys()}\n",
    "nidx_by_type"
   ],
   "metadata": {
    "collapsed": false,
    "ExecuteTime": {
     "start_time": "2024-04-25T14:33:05.843359Z"
    }
   },
   "id": "8150d6356c296bf2",
   "execution_count": null
  },
  {
   "cell_type": "code",
   "outputs": [],
   "source": [
    "# Build pyg HeteroData from graph\n",
    "data = HeteroData()\n",
    "hidden_size = 1\n",
    "for node_type in set(nx.get_node_attributes(graph, \"type\").values()):\n",
    "    if node_type == \"obj\":\n",
    "        data[node_type].x = torch.stack(\n",
    "            [torch.full(fill_value=obj_label[node], size=(hidden_size,),\n",
    "                        dtype=torch.float32) for node, attr\n",
    "             in graph.nodes.data() if attr[\"type\"] == node_type])\n",
    "    else:\n",
    "        arity = graph.graph[node_type]\n",
    "        data[node_type].x = torch.stack(\n",
    "            [torch.zeros(arity * hidden_size, dtype=torch.float32) for _, attr in\n",
    "             graph.nodes.data() if\n",
    "             attr[\"type\"] == node_type])\n",
    "\n",
    "# Group edges by src, position, dst\n",
    "edge_dict = {}\n",
    "for src, dst, attr in graph.edges.data():\n",
    "    src_type = graph.nodes[src][\"type\"]\n",
    "    dst_type = graph.nodes[dst][\"type\"]\n",
    "    if (src_type, attr[\"position\"], dst_type) not in edge_dict:\n",
    "        edge_dict[(src_type, attr[\"position\"], dst_type)] = []\n",
    "        edge_dict[(dst_type, attr[\"position\"], src_type)] = []\n",
    "\n",
    "    edge_dict[(src_type, attr[\"position\"], dst_type)].append(\n",
    "        torch.tensor([nidx_by_type[src_type][src], nidx_by_type[dst_type][dst]]))\n",
    "    edge_dict[(dst_type, attr[\"position\"], src_type)].append(\n",
    "        torch.tensor([nidx_by_type[dst_type][dst], nidx_by_type[src_type][src]]))\n",
    "# stack grouped tensors and add to data\n",
    "for key, value in edge_dict.items():\n",
    "    data[key[0], key[1], key[2]].edge_index = torch.stack(value, dim=1)\n",
    "\n",
    "edge_types = edge_dict.keys()"
   ],
   "metadata": {
    "collapsed": false,
    "ExecuteTime": {
     "start_time": "2024-04-25T14:33:05.843691Z"
    }
   },
   "id": "51544080d8e575a5",
   "execution_count": null
  },
  {
   "cell_type": "code",
   "outputs": [],
   "source": [
    "torch.stack([torch.tensor([1, 2]), torch.tensor([3, 4]), torch.tensor([5, 6])], dim=1)"
   ],
   "metadata": {
    "collapsed": false,
    "ExecuteTime": {
     "start_time": "2024-04-25T14:33:05.843831Z"
    }
   },
   "id": "13ea970bf2450e54",
   "execution_count": null
  },
  {
   "cell_type": "code",
   "outputs": [],
   "source": [
    "data.validate()"
   ],
   "metadata": {
    "collapsed": false,
    "ExecuteTime": {
     "start_time": "2024-04-25T14:33:05.843956Z"
    }
   },
   "id": "6d7ce6c5aeb59b17",
   "execution_count": null
  },
  {
   "cell_type": "code",
   "outputs": [],
   "source": [
    "data.x_dict"
   ],
   "metadata": {
    "collapsed": false,
    "ExecuteTime": {
     "start_time": "2024-04-25T14:33:05.844494Z"
    }
   },
   "id": "ac60f5f469b16a2b",
   "execution_count": null
  },
  {
   "cell_type": "code",
   "outputs": [],
   "source": [
    "from torch_geometric.utils import to_networkx\n",
    "\n",
    "hgraph: nx.Graph = to_networkx(data, to_multi=True)\n",
    "pos = nx.spring_layout(hgraph)\n",
    "nx.draw_networkx(hgraph)"
   ],
   "metadata": {
    "collapsed": false,
    "ExecuteTime": {
     "start_time": "2024-04-25T14:33:05.844613Z"
    }
   },
   "id": "6ef2e1eb7df4d039",
   "execution_count": null
  },
  {
   "cell_type": "code",
   "outputs": [],
   "source": [
    "class SelectMP(pyg.nn.SimpleConv):\n",
    "\n",
    "    def __init__(self,\n",
    "                 position: int,\n",
    "                 aggr: Optional[Union[str, List[str]]] = 'sum', *,\n",
    "                 aggr_kwargs: Optional[Dict[str, Any]] = None,\n",
    "                 flow: str = \"source_to_target\",\n",
    "                 node_dim: int = -2,\n",
    "                 decomposed_layers: int = 1) -> None:\n",
    "        super().__init__(aggr, aggr_kwargs=aggr_kwargs, flow=flow, node_dim=node_dim,\n",
    "                         decomposed_layers=decomposed_layers)\n",
    "        self.position = position\n",
    "\n",
    "    def message(self, x_j: Tensor) -> Tensor:\n",
    "        selected = x_j[:, self.position].view(-1, 1)\n",
    "        print(\"Selected:\")\n",
    "        print(selected)\n",
    "        return selected\n",
    "\n"
   ],
   "metadata": {
    "collapsed": false,
    "ExecuteTime": {
     "start_time": "2024-04-25T14:33:05.844731Z"
    }
   },
   "id": "66ee6386b7d3cd97",
   "execution_count": null
  },
  {
   "cell_type": "code",
   "outputs": [],
   "source": [
    "from typing import Optional, Union, List\n",
    "from torch import Tensor\n",
    "\n",
    "\n",
    "class MP(pyg.nn.SimpleConv):\n",
    "\n",
    "    def __init__(self, aggr: Optional[Union[str, List[str]]] = \"sum\",\n",
    "                 combine_root: Optional[str] = None, **kwargs):\n",
    "        super().__init__(aggr, combine_root, **kwargs)\n",
    "\n",
    "    def forward(self, x, edge_index) -> Tensor:\n",
    "        print(\"Forward: \")\n",
    "        print(x)\n",
    "        print(edge_index)\n",
    "        print()\n",
    "        return super().forward(x, edge_index)\n",
    "\n",
    "    def message(self, x_j: Tensor, edge_weight) -> Tensor:\n",
    "        print(\"Message: \")\n",
    "        print(x_j)\n",
    "        return super().message(x_j, edge_weight)\n",
    "\n",
    "    def aggregate(self, inputs, index, ptr, dim_size) -> Tensor:\n",
    "        print(\"Aggregate: \")\n",
    "        print(inputs)\n",
    "        print(index)\n",
    "        print(ptr)\n",
    "        print(dim_size)\n",
    "        return super().aggregate(inputs, index, ptr, dim_size)\n",
    "\n"
   ],
   "metadata": {
    "collapsed": false,
    "ExecuteTime": {
     "start_time": "2024-04-25T14:33:05.844846Z"
    }
   },
   "id": "1fc2ada021533c67",
   "execution_count": null
  },
  {
   "cell_type": "code",
   "outputs": [],
   "source": [
    "data"
   ],
   "metadata": {
    "collapsed": false,
    "ExecuteTime": {
     "start_time": "2024-04-25T14:33:05.844957Z"
    }
   },
   "id": "4267712d3397988",
   "execution_count": null
  },
  {
   "cell_type": "code",
   "outputs": [],
   "source": [
    "from torch_geometric.nn.module_dict import ModuleDict\n",
    "from torch_geometric.nn import HeteroConv, SimpleConv\n",
    "from torch_geometric.typing import EdgeType, NodeType\n",
    "\n",
    "\n",
    "class FanOutMP(torch.nn.Module):\n",
    "\n",
    "    def __init__(self,\n",
    "                 edge_types: List[EdgeType],\n",
    "                 update_mlp_by_dst: Dict[str, torch.nn.Module]\n",
    "                 ):\n",
    "\n",
    "        super().__init__()\n",
    "        self.edge_types = edge_types\n",
    "        self.update_mlp_by_dst = ModuleDict(update_mlp_by_dst)\n",
    "        self.simple = SimpleConv()\n",
    "\n",
    "    def forward(self, *args_dict, **kwargs_dict) -> Dict[NodeType, Tensor]:\n",
    "        out_dict: Dict[str, List[Tensor]] = {}\n",
    "        print(\"FanOut forward:\" + str(self.edge_types))\n",
    "        for edge_type in self.edge_types:\n",
    "            src, rel, dst = edge_type\n",
    "            has_edge_level_arg = False\n",
    "\n",
    "            args = []\n",
    "            for value_dict in args_dict:\n",
    "                if edge_type in value_dict:\n",
    "                    has_edge_level_arg = True\n",
    "                    args.append(value_dict[edge_type])\n",
    "                elif src == dst and src in value_dict:\n",
    "                    args.append(value_dict[src])\n",
    "                elif src in value_dict or dst in value_dict:\n",
    "                    args.append((\n",
    "                        value_dict.get(src, None),\n",
    "                        value_dict.get(dst, None),\n",
    "                    ))\n",
    "\n",
    "            kwargs = {}\n",
    "            for arg, value_dict in kwargs_dict.items():\n",
    "                if not arg.endswith('_dict'):\n",
    "                    raise ValueError(\n",
    "                        f\"Keyword arguments in '{self.__class__.__name__}' \"\n",
    "                        f\"need to end with '_dict' (got '{arg}')\")\n",
    "\n",
    "                arg = arg[:-5]  # `{*}_dict`\n",
    "                if edge_type in value_dict:\n",
    "                    has_edge_level_arg = True\n",
    "                    kwargs[arg] = value_dict[edge_type]\n",
    "                elif src == dst and src in value_dict:\n",
    "                    kwargs[arg] = value_dict[src]\n",
    "                elif src in value_dict or dst in value_dict:\n",
    "                    kwargs[arg] = (\n",
    "                        value_dict.get(src, None),\n",
    "                        value_dict.get(dst, None),\n",
    "                    )\n",
    "\n",
    "            if not has_edge_level_arg:\n",
    "                continue\n",
    "\n",
    "            out = self.simple(*args, **kwargs)  # one entry for every node of type dst \n",
    "            pos = int(rel)\n",
    "            if dst not in out_dict:\n",
    "                out_dict[dst] = [(pos, out)]\n",
    "            else:\n",
    "                out_dict[dst].append((pos, out))\n",
    "\n",
    "        for dst, value in out_dict.items():\n",
    "            sorted_out = sorted(value, key=lambda x: x[0])\n",
    "            stacked = torch.cat([out for _, out in sorted_out], dim=1)\n",
    "            print(\"Fan out stacked:\")\n",
    "            print(stacked)\n",
    "            out_dict[dst] = self.update_mlp_by_dst[dst](stacked)\n",
    "\n",
    "        return out_dict\n"
   ],
   "metadata": {
    "collapsed": false,
    "ExecuteTime": {
     "start_time": "2024-04-25T14:33:05.845082Z"
    }
   },
   "id": "31a64f504c4dd6c",
   "execution_count": null
  },
  {
   "cell_type": "code",
   "outputs": [],
   "source": [
    "\n",
    "\n",
    "class HGT(torch.nn.Module):\n",
    "    def __init__(self,\n",
    "                 hidden_channels,\n",
    "                 out_channels,\n",
    "                 num_layer: int,\n",
    "                 edge_to_obj,\n",
    "                 edge_to_atom,\n",
    "                 arity_by_pred: Dict[str, int],\n",
    "                 ):\n",
    "        super().__init__()\n",
    "\n",
    "        self.num_layer = num_layer\n",
    "        mlp_by_pred = {\n",
    "            pred: pyg.nn.MLP([arity_by_pred[pred] * hidden_channels, hidden_channels,\n",
    "                              arity_by_pred[pred] * hidden_channels, ]) for\n",
    "            _, _, pred in edge_to_atom}\n",
    "\n",
    "        self.obj_to_atom = FanOutMP(edge_to_atom, mlp_by_pred)\n",
    "\n",
    "        self.obj_update = pyg.nn.MLP(\n",
    "            [hidden_channels * 2, hidden_channels, hidden_channels])\n",
    "        self.atom_to_obj = HeteroConv({\n",
    "            (src, pos, dst): SelectMP(int(pos)) for src, pos, dst in edge_to_obj}\n",
    "        )\n",
    "        self.lin = Linear(hidden_channels, out_channels)\n",
    "\n",
    "    def layer(self, x_dict, edge_index_dict):\n",
    "        out = self.obj_to_atom(x_dict, edge_index_dict)  # flows from objects to atoms\n",
    "        x_dict.update(out)  # update atom embeddings\n",
    "        out = self.atom_to_obj(x_dict, edge_index_dict)  # flows form atoms to objects\n",
    "        # group old embedding current embedding for each object\n",
    "        obj_emb = torch.cat([x_dict[\"obj\"], out[\"obj\"]], dim=1)\n",
    "        obj_emb = self.obj_update(obj_emb)  # run through update-mlp\n",
    "        x_dict.update({\"obj\": obj_emb})\n",
    "\n",
    "    def forward(self, x_dict, edge_index_dict):\n",
    "        for _ in range(self.num_layer):\n",
    "            self.layer(x_dict, edge_index_dict)\n",
    "        return self.lin(x_dict['obj'])\n"
   ],
   "metadata": {
    "collapsed": false,
    "ExecuteTime": {
     "start_time": "2024-04-25T14:33:05.845537Z"
    }
   },
   "id": "1c7f1cd29ef9d491",
   "execution_count": null
  },
  {
   "cell_type": "code",
   "outputs": [],
   "source": [
    "to_atom = [(src, pos, dst) for src, pos, dst in edge_types if dst != \"obj\"]\n",
    "to_obj = [(src, pos, dst) for src, pos, dst in edge_types if dst == \"obj\"]\n",
    "model = HGT(hidden_channels=hidden_size, out_channels=1, edge_to_obj=to_obj,\n",
    "            edge_to_atom=to_atom, arity_by_pred=dict(graph.graph.items()), num_layer=1)"
   ],
   "metadata": {
    "collapsed": false,
    "ExecuteTime": {
     "start_time": "2024-04-25T14:33:05.847900Z"
    }
   },
   "id": "f77a64877ec8b06a",
   "execution_count": null
  },
  {
   "cell_type": "code",
   "outputs": [],
   "source": [
    "model(data.x_dict, data.edge_index_dict)"
   ],
   "metadata": {
    "collapsed": false,
    "ExecuteTime": {
     "start_time": "2024-04-25T14:33:05.849703Z"
    }
   },
   "id": "49e00576942710c9",
   "execution_count": null
  },
  {
   "cell_type": "code",
   "outputs": [],
   "source": [
    "t1 = torch.tensor([[1., 2.0],\n",
    "                   [3., 4.0],\n",
    "                   [5., 6.0],\n",
    "                   [7., 8.]])\n",
    "\n",
    "t2 = torch.tensor([[8., 7.],\n",
    "                   [6., 5.],\n",
    "                   [4., 3.0],\n",
    "                   [2., 1.0]])\n",
    "torch.cat([t1, t2], dim=1)"
   ],
   "metadata": {
    "collapsed": false,
    "ExecuteTime": {
     "start_time": "2024-04-25T14:33:05.898766Z"
    }
   },
   "id": "f3e70572e519edd2",
   "execution_count": null
  },
  {
   "cell_type": "code",
   "outputs": [],
   "source": [
    "x = torch.tensor([[1],\n",
    "                  [0],\n",
    "                  [2]])\n",
    "\n",
    "# Select the 2nd element from each row\n",
    "selected_elements = x[:, 0].view(-1, 1)\n",
    "\n",
    "print(selected_elements)"
   ],
   "metadata": {
    "collapsed": false,
    "ExecuteTime": {
     "start_time": "2024-04-25T14:33:05.898943Z"
    }
   },
   "id": "5668163ce8b5a978",
   "execution_count": null
  },
  {
   "cell_type": "code",
   "outputs": [],
   "source": [
    "torch.zeros((2, 3))"
   ],
   "metadata": {
    "collapsed": false,
    "ExecuteTime": {
     "start_time": "2024-04-25T14:33:05.899045Z"
    }
   },
   "id": "949b7709d5ebd07c",
   "execution_count": null
  },
  {
   "cell_type": "code",
   "outputs": [],
   "source": [
    "from rgnet.models.hetero_gnn import HGT\n",
    "from rgnet.pddl_import import import_all_from\n",
    "from rgnet.encoding.hetero import HeteroEncoding\n",
    "from rgnet.supervised.data import MultiInstanceSupervisedSet\n",
    "from torch_geometric.loader import DataLoader\n",
    "import torch\n",
    "\n",
    "hidden_size = 4\n",
    "\n",
    "domain, problems = import_all_from(\"test/pddl_instances/blocks\")\n",
    "encoder = HeteroEncoding(domain, hidden_size=hidden_size)\n",
    "train_set = MultiInstanceSupervisedSet(problems, encoder, force_reload=True)\n",
    "train_loader = DataLoader(train_set, batch_size=2, shuffle=True)\n",
    "\n",
    "model = HGT(hidden_channels=hidden_size, out_channels=1, num_layer=1,\n",
    "            arity_by_pred=encoder.arity_by_pred, obj_name=encoder.obj_name)\n",
    "model.train()\n",
    "optimizer = torch.optim.Adam(model.parameters(), lr=0.01)\n",
    "loss_fn = torch.nn.L1Loss()\n",
    "\n",
    "batch = next(iter(train_loader))"
   ],
   "metadata": {
    "collapsed": false,
    "ExecuteTime": {
     "start_time": "2024-04-25T14:33:05.899123Z"
    }
   },
   "id": "440a70a4efa450ed",
   "execution_count": null
  },
  {
   "cell_type": "code",
   "outputs": [],
   "source": [
    "batch[\"obj\"].batch"
   ],
   "metadata": {
    "collapsed": false,
    "ExecuteTime": {
     "start_time": "2024-04-25T14:33:05.899345Z"
    }
   },
   "id": "196953140e998f7b",
   "execution_count": null
  },
  {
   "cell_type": "code",
   "outputs": [],
   "source": [
    "hasattr(batch[\"obj\"], \"batch\")"
   ],
   "metadata": {
    "collapsed": false,
    "ExecuteTime": {
     "start_time": "2024-04-25T14:33:05.899487Z"
    }
   },
   "id": "bc31dee1ab9151f4",
   "execution_count": null
  },
  {
   "cell_type": "code",
   "outputs": [],
   "source": [
    "import importlib\n",
    "import rgnet\n",
    "importlib.reload(rgnet.models.hetero_gnn)"
   ],
   "metadata": {
    "collapsed": false,
    "ExecuteTime": {
     "start_time": "2024-04-25T14:33:05.899578Z"
    }
   },
   "id": "2286afd4fc244093",
   "execution_count": null
  },
  {
   "cell_type": "code",
   "outputs": [],
   "source": [
    "from rgnet.models.hetero_gnn import LightningHetero\n",
    "from rgnet.supervised.data import MultiInstanceSupervisedSet\n",
    "from rgnet.pddl_import import import_all_from\n",
    "from rgnet.encoding.hetero import HeteroEncoding"
   ],
   "metadata": {
    "collapsed": false,
    "ExecuteTime": {
     "start_time": "2024-04-25T14:33:05.899742Z"
    }
   },
   "id": "7a9c1aa8ff3986d5",
   "execution_count": null
  },
  {
   "cell_type": "code",
   "outputs": [],
   "source": [
    "domain, problems = import_all_from(\"test/pddl_instances/blocks\")"
   ],
   "metadata": {
    "collapsed": false,
    "ExecuteTime": {
     "start_time": "2024-04-25T14:33:05.899821Z"
    }
   },
   "id": "19404e53f6e1657b",
   "execution_count": null
  },
  {
   "cell_type": "code",
   "outputs": [],
   "source": [
    "encoder = HeteroEncoding(domain, hidden_size=4)"
   ],
   "metadata": {
    "collapsed": false,
    "ExecuteTime": {
     "start_time": "2024-04-25T14:33:05.899905Z"
    }
   },
   "id": "8c9292f4a05c8554",
   "execution_count": null
  },
  {
   "cell_type": "code",
   "outputs": [],
   "source": [
    "import tempfile"
   ],
   "metadata": {
    "collapsed": false,
    "ExecuteTime": {
     "start_time": "2024-04-25T14:33:05.899978Z"
    }
   },
   "id": "4708c59d1a603fcf",
   "execution_count": null
  },
  {
   "cell_type": "code",
   "outputs": [],
   "source": [
    "tempdir = tempfile.mkdtemp()"
   ],
   "metadata": {
    "collapsed": false,
    "ExecuteTime": {
     "start_time": "2024-04-25T14:33:05.900050Z"
    }
   },
   "id": "240e72983ee54e64",
   "execution_count": null
  },
  {
   "cell_type": "code",
   "outputs": [],
   "source": [
    "tempdir"
   ],
   "metadata": {
    "collapsed": false,
    "ExecuteTime": {
     "start_time": "2024-04-25T14:33:05.900125Z"
    }
   },
   "id": "5857e7ced9ba2aab",
   "execution_count": null
  },
  {
   "cell_type": "code",
   "outputs": [],
   "source": [
    "dataset = MultiInstanceSupervisedSet(problems, encoder, force_reload=True, root=tempdir)"
   ],
   "metadata": {
    "collapsed": false,
    "ExecuteTime": {
     "start_time": "2024-04-25T14:33:05.900324Z"
    }
   },
   "id": "7e77a6149dd03b4e",
   "execution_count": null
  },
  {
   "cell_type": "code",
   "outputs": [],
   "source": [
    "from torch_geometric.loader import DataLoader \n",
    "import lightning"
   ],
   "metadata": {
    "collapsed": false,
    "ExecuteTime": {
     "start_time": "2024-04-25T14:33:05.900412Z"
    }
   },
   "id": "3c231ec99b55aa96",
   "execution_count": null
  },
  {
   "cell_type": "code",
   "outputs": [],
   "source": [
    "train_loader = DataLoader(dataset, batch_size=2, shuffle=True)"
   ],
   "metadata": {
    "collapsed": false,
    "ExecuteTime": {
     "start_time": "2024-04-25T14:33:05.900491Z"
    }
   },
   "id": "a431b1fda7621ae6",
   "execution_count": null
  },
  {
   "cell_type": "code",
   "outputs": [],
   "source": [
    "model = LightningHetero(hidden_size=4, num_layer=1,\n",
    "                        arity_by_pred=encoder.arity_by_pred, obj_name=encoder.obj_name)"
   ],
   "metadata": {
    "collapsed": false,
    "ExecuteTime": {
     "start_time": "2024-04-25T14:33:05.900563Z"
    }
   },
   "id": "1c0ad15b7fc27c7d",
   "execution_count": null
  },
  {
   "cell_type": "code",
   "outputs": [],
   "source": [
    "isinstance(model, lightning.LightningModule)"
   ],
   "metadata": {
    "collapsed": false,
    "ExecuteTime": {
     "start_time": "2024-04-25T14:33:05.900639Z"
    }
   },
   "id": "b9eacea4d6b3f483",
   "execution_count": null
  },
  {
   "cell_type": "code",
   "outputs": [],
   "source": [
    "from lightning import Trainer"
   ],
   "metadata": {
    "collapsed": false,
    "ExecuteTime": {
     "start_time": "2024-04-25T14:33:05.900707Z"
    }
   },
   "id": "3d069b40be4909e6",
   "execution_count": null
  },
  {
   "cell_type": "code",
   "outputs": [],
   "source": [
    "trainer = Trainer(max_epochs=1)"
   ],
   "metadata": {
    "collapsed": false,
    "ExecuteTime": {
     "start_time": "2024-04-25T14:33:05.900771Z"
    }
   },
   "id": "ce6dc63dcee17ce4",
   "execution_count": null
  },
  {
   "cell_type": "code",
   "outputs": [],
   "source": [
    "trainer.fit(model, train_dataloaders=train_loader)"
   ],
   "metadata": {
    "collapsed": false,
    "ExecuteTime": {
     "start_time": "2024-04-25T14:33:05.900888Z"
    }
   },
   "id": "aaf5a569b104f0f5",
   "execution_count": null
  },
  {
   "cell_type": "code",
   "outputs": [],
   "source": [],
   "metadata": {
    "collapsed": false,
    "ExecuteTime": {
     "start_time": "2024-04-25T14:33:05.900960Z"
    }
   },
   "id": "d847c3c25d3764f3"
  }
 ],
 "metadata": {
  "kernelspec": {
   "display_name": "Python 3",
   "language": "python",
   "name": "python3"
  },
  "language_info": {
   "codemirror_mode": {
    "name": "ipython",
    "version": 2
   },
   "file_extension": ".py",
   "mimetype": "text/x-python",
   "name": "python",
   "nbconvert_exporter": "python",
   "pygments_lexer": "ipython2",
   "version": "2.7.6"
  }
 },
 "nbformat": 4,
 "nbformat_minor": 5
}
